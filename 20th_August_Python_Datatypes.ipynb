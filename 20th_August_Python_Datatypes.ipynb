{
 "cells": [
  {
   "cell_type": "markdown",
   "id": "8f8d7ac1-9d38-4c10-98bb-2c6d5d1e34f7",
   "metadata": {},
   "source": [
    "1. Write a program to reverse a string."
   ]
  },
  {
   "cell_type": "code",
   "execution_count": 1,
   "id": "29f77b5a-46cc-4c4e-98eb-637811c8cf56",
   "metadata": {},
   "outputs": [
    {
     "name": "stdin",
     "output_type": "stream",
     "text": [
      "Enter a string:  students\n"
     ]
    },
    {
     "name": "stdout",
     "output_type": "stream",
     "text": [
      "Reverse string is: stneduts\n"
     ]
    }
   ],
   "source": [
    "str1=input(\"Enter a string: \") # take input as string\n",
    "rev_str1=str1[::-1] # reverse the string\n",
    "print(\"Reverse string is:\",rev_str1) # print the reverse string"
   ]
  },
  {
   "cell_type": "markdown",
   "id": "88b0e531-21a7-4467-b668-746afc5733fe",
   "metadata": {},
   "source": [
    "2. Check if a string is a palindrome."
   ]
  },
  {
   "cell_type": "code",
   "execution_count": 3,
   "id": "31fa2f03-df0a-4c9c-918c-57ca48dd54fb",
   "metadata": {},
   "outputs": [
    {
     "name": "stdin",
     "output_type": "stream",
     "text": [
      "Enter a string: level\n"
     ]
    },
    {
     "name": "stdout",
     "output_type": "stream",
     "text": [
      "The string is palindrome\n"
     ]
    }
   ],
   "source": [
    "str2=input(\"Enter a string:\") # take input as string\n",
    "rev_str2=str2[::-1] \n",
    "if str2==rev_str2: # checking the string is palindrome or not\n",
    "    print(\"The string is palindrome\")\n",
    "else:\n",
    "    print(\"The string isn't palindrome\")"
   ]
  },
  {
   "cell_type": "markdown",
   "id": "16ba5f9e-6423-4e20-9772-b067970ae9bd",
   "metadata": {},
   "source": [
    "3. Convert a string to uppercase."
   ]
  },
  {
   "cell_type": "code",
   "execution_count": 4,
   "id": "065db39a-4866-4752-90aa-6f841a831cbc",
   "metadata": {},
   "outputs": [
    {
     "name": "stdin",
     "output_type": "stream",
     "text": [
      "Enter a string: i m a student\n"
     ]
    },
    {
     "name": "stdout",
     "output_type": "stream",
     "text": [
      "upper string is: I M A STUDENT\n"
     ]
    }
   ],
   "source": [
    "str3=input(\"Enter a string:\") # take input as string\n",
    "upper_str3=str3.upper() # converting the string to upper case\n",
    "print(\"uppercase string is:\",upper_str3) # printing the converted upper case string"
   ]
  },
  {
   "cell_type": "markdown",
   "id": "4e4c97ff-b6e7-4119-b795-7e01fd72c7de",
   "metadata": {},
   "source": [
    "4. Convert a string to lowercase."
   ]
  },
  {
   "cell_type": "code",
   "execution_count": 1,
   "id": "70e7cedd-7aa0-4fd8-96ea-8749b752a6bb",
   "metadata": {},
   "outputs": [
    {
     "name": "stdin",
     "output_type": "stream",
     "text": [
      "Enter a string: stde\n"
     ]
    },
    {
     "name": "stdout",
     "output_type": "stream",
     "text": [
      "Lower case string is: stde\n"
     ]
    }
   ],
   "source": [
    "str4=input(\"Enter a string:\")# take input as string\n",
    "lower_str4=str4.lower()  # converting the string to lower case\n",
    "print(\"Lower case string is:\",lower_str4) # printing the converted lower case string"
   ]
  },
  {
   "cell_type": "markdown",
   "id": "e3743415-789c-4975-8ed3-88045a3dc5b5",
   "metadata": {},
   "source": [
    "5. Count the number of vowels in a string."
   ]
  },
  {
   "cell_type": "code",
   "execution_count": 4,
   "id": "2a9dfa05-d8d1-4d1d-9a9a-52f134e15daf",
   "metadata": {},
   "outputs": [
    {
     "name": "stdin",
     "output_type": "stream",
     "text": [
      "Enter a string: i m a student\n"
     ]
    },
    {
     "name": "stdout",
     "output_type": "stream",
     "text": [
      "The number of vowels in a string is 4\n"
     ]
    }
   ],
   "source": [
    "str5=input(\"Enter a string:\") # take input as string\n",
    "vowel_count=str5.count('a')+str5.count('e')+str5.count('i')+str5.count('o')+str5.count('u') # count the number of vowels\n",
    "print(\"The number of vowels in a string is\",vowel_count) # print the number of vowels"
   ]
  },
  {
   "cell_type": "code",
   "execution_count": 15,
   "id": "8209bac2-b276-405f-b456-f5a1b53309cf",
   "metadata": {},
   "outputs": [],
   "source": [
    "def vowel_count(string): # take string as input \n",
    "    count=0 # initialize a variable for vowel count\n",
    "    for char in string:\n",
    "        if char=='a'or char=='e' or char=='i' or char=='o' or char=='u':\n",
    "            count+=1\n",
    "    return count # print the number of vowel"
   ]
  },
  {
   "cell_type": "code",
   "execution_count": 10,
   "id": "3950474c-a68e-415f-aaf7-6a542fe0ec6c",
   "metadata": {},
   "outputs": [
    {
     "data": {
      "text/plain": [
       "4"
      ]
     },
     "execution_count": 10,
     "metadata": {},
     "output_type": "execute_result"
    }
   ],
   "source": [
    "vowel_count(\"i m a student\")"
   ]
  },
  {
   "cell_type": "markdown",
   "id": "dc0e6645-5ef5-41d7-8b73-ef3e3cb1165a",
   "metadata": {
    "tags": []
   },
   "source": [
    "6. Count the number of consonants in a string."
   ]
  },
  {
   "cell_type": "code",
   "execution_count": 32,
   "id": "2d8d0f49-55d2-49f1-a243-ed1071a4bb31",
   "metadata": {},
   "outputs": [],
   "source": [
    "def consonant_count(string): # take string as input \n",
    "    count=0 \n",
    "    lower_str=str.lower(string)\n",
    "    for char in lower_str:\n",
    "        if char=='a'or char=='e' or char=='i' or char=='o' or char=='u':\n",
    "            count+=1\n",
    "            conso_count= len(string)-count\n",
    "    return conso_count # printing the number of consonant"
   ]
  },
  {
   "cell_type": "code",
   "execution_count": 33,
   "id": "2c486743-d187-46eb-b771-79eade415ae2",
   "metadata": {},
   "outputs": [
    {
     "data": {
      "text/plain": [
       "9"
      ]
     },
     "execution_count": 33,
     "metadata": {},
     "output_type": "execute_result"
    }
   ],
   "source": [
    "consonant_count(\"i m a student\")"
   ]
  },
  {
   "cell_type": "code",
   "execution_count": 34,
   "id": "dcda0060-7bdd-468b-9582-90847f46e2c9",
   "metadata": {},
   "outputs": [
    {
     "data": {
      "text/plain": [
       "9"
      ]
     },
     "execution_count": 34,
     "metadata": {},
     "output_type": "execute_result"
    }
   ],
   "source": [
    "consonant_count(\"I M A student\")"
   ]
  },
  {
   "cell_type": "markdown",
   "id": "d6804dd8-3c28-442e-a843-bc202e1e5597",
   "metadata": {},
   "source": [
    "7. Remove all whitespaces from a string."
   ]
  },
  {
   "cell_type": "code",
   "execution_count": 36,
   "id": "b1f131cb-2dfb-4b43-b873-9a8d1fe2ae84",
   "metadata": {},
   "outputs": [
    {
     "name": "stdin",
     "output_type": "stream",
     "text": [
      "Enter a string hey good morning\n"
     ]
    },
    {
     "name": "stdout",
     "output_type": "stream",
     "text": [
      "After removing all the space from the string: heygoodmorning\n"
     ]
    }
   ],
   "source": [
    "str7 = input(\"Enter a string\") # take input as a string\n",
    "mod_str=str7.replace(\" \",\"\") # removing all the spaces\n",
    "print(\"After removing all the space from the string:\",mod_str)# print the modiefied string withut spaces."
   ]
  },
  {
   "cell_type": "markdown",
   "id": "f117bf92-a881-4c6c-a485-39cfdebd9ede",
   "metadata": {},
   "source": [
    "8. Find the length of a string without using the `len()` function.\n"
   ]
  },
  {
   "cell_type": "code",
   "execution_count": 3,
   "id": "c44f61d6-ee27-4d6d-ad21-7fa645dc2931",
   "metadata": {},
   "outputs": [
    {
     "name": "stdin",
     "output_type": "stream",
     "text": [
      "Enter a string: hey good morning\n"
     ]
    },
    {
     "name": "stdout",
     "output_type": "stream",
     "text": [
      "Length of the string: 16\n"
     ]
    }
   ],
   "source": [
    "str8 = input(\"Enter a string:\") # take input as a string\n",
    "count=0 #initialize varible to find the length of a string\n",
    "for char in str8:\n",
    "    count+=1\n",
    "print(\"Length of the string:\",count) #printing the length of a string"
   ]
  },
  {
   "cell_type": "markdown",
   "id": "2f930ac0-7d51-4589-944d-7e95abcc16a6",
   "metadata": {},
   "source": [
    "9. Check if a string contains a specific word."
   ]
  },
  {
   "cell_type": "code",
   "execution_count": 7,
   "id": "df9ad312-a73d-4fde-86cc-85765175f983",
   "metadata": {},
   "outputs": [
    {
     "name": "stdin",
     "output_type": "stream",
     "text": [
      "Enter a string: Hey morning\n",
      "Enter the specific word ypu want to check for: bad\n"
     ]
    },
    {
     "name": "stdout",
     "output_type": "stream",
     "text": [
      "This string doesn't contain bad\n"
     ]
    }
   ],
   "source": [
    "str9 = input(\"Enter a string:\") # take input as a string\n",
    "specific_word= input(\"Enter the specific word ypu want to check for:\") #input the specific word\n",
    "if specific_word in str9: # check the string contains the specific word or not\n",
    "    print(\"The string contains\",specific_word)\n",
    "else:\n",
    "    print(\"This string doesn't contain\",specific_word)"
   ]
  },
  {
   "cell_type": "markdown",
   "id": "5885355f-c0dd-431f-8590-498428802ba6",
   "metadata": {},
   "source": [
    "10. Replace a word in a string with another word."
   ]
  },
  {
   "cell_type": "code",
   "execution_count": 1,
   "id": "28a2586e-86b1-4754-9c14-d3bb3b5e1986",
   "metadata": {},
   "outputs": [
    {
     "name": "stdin",
     "output_type": "stream",
     "text": [
      "Enter a string: hey good morning\n",
      "Enter the word , you want to replace: good\n",
      "Enter the new word: bad\n"
     ]
    },
    {
     "name": "stdout",
     "output_type": "stream",
     "text": [
      "The modified string is: hey bad morning\n"
     ]
    }
   ],
   "source": [
    "str10 = input(\"Enter a string:\") # take input as a string\n",
    "replacable_word = input(\"Enter the word , you want to replace:\")\n",
    "new_word = input(\"Enter the new word:\")\n",
    "new_str=str10.replace(replacable_word,new_word) # replacing the word with another word\n",
    "print(\"The modified string is:\",new_str) # printing the modified string"
   ]
  },
  {
   "cell_type": "markdown",
   "id": "f19124a7-d83c-4e8d-bb7a-db9b6a261d23",
   "metadata": {},
   "source": [
    "11. Count the occurrences of a word in a string."
   ]
  },
  {
   "cell_type": "code",
   "execution_count": 6,
   "id": "54147a04-b2e1-41a6-9a8f-ce17336a6c93",
   "metadata": {},
   "outputs": [
    {
     "name": "stdin",
     "output_type": "stream",
     "text": [
      "Enter a string: he is a very very good student\n",
      "Enter the word whose occurrences you want to count: very\n"
     ]
    },
    {
     "name": "stdout",
     "output_type": "stream",
     "text": [
      "The occurrences of student in a string is: 2\n"
     ]
    }
   ],
   "source": [
    "str11 = input(\"Enter a string:\") # take input as a string\n",
    "occ_word= input(\"Enter the word whose occurrences you want to count:\")\n",
    "words=str11.split() #split the strings into words \n",
    "count=0 #initialize variable to count word\n",
    "for word in words:\n",
    "    if word==occ_word:\n",
    "        count+=1\n",
    "    \n",
    "print(\"The occurrences of\",word, \"in a string is:\", count) "
   ]
  },
  {
   "cell_type": "markdown",
   "id": "215be191-221d-4e7f-86cc-a81fad086a79",
   "metadata": {},
   "source": [
    "12. Find the first occurrence of a word in a string."
   ]
  },
  {
   "cell_type": "code",
   "execution_count": 13,
   "id": "76045bdc-3441-4631-8744-26872466fafc",
   "metadata": {},
   "outputs": [
    {
     "name": "stdin",
     "output_type": "stream",
     "text": [
      "Enter a string: hey good morning\n",
      "Enter the word: a\n"
     ]
    },
    {
     "name": "stdout",
     "output_type": "stream",
     "text": [
      "The word doesn't exists\n"
     ]
    }
   ],
   "source": [
    "str12 = input(\"Enter a string:\") \n",
    "word= input(\"Enter the word:\")\n",
    "ind=str12.find(word)\n",
    "if ind==-1:\n",
    "    print(\"The word doesn't exists\")\n",
    "else:\n",
    "    print(\"Index of the first occurrence:\",ind)"
   ]
  },
  {
   "cell_type": "markdown",
   "id": "a1d3a6f9-9255-48b2-8ab9-51f05cb55014",
   "metadata": {},
   "source": [
    "13. Find the last occurrence of a word in a string."
   ]
  },
  {
   "cell_type": "code",
   "execution_count": 17,
   "id": "eb8fa272-e300-4dc9-bff7-3c1c675f4d22",
   "metadata": {},
   "outputs": [
    {
     "name": "stdin",
     "output_type": "stream",
     "text": [
      "Enter a string: The string doesn't contain any other string\n",
      "Enter the word: string\n"
     ]
    },
    {
     "name": "stdout",
     "output_type": "stream",
     "text": [
      "Index of the last occurrence: 37\n"
     ]
    }
   ],
   "source": [
    "str13 = input(\"Enter a string:\") \n",
    "word= input(\"Enter the word:\")\n",
    "ind=str12.rfind(word)\n",
    "if ind==-1:\n",
    "    print(\"The word doesn't exists\")\n",
    "else:\n",
    "    print(\"Index of the last occurrence:\",ind)"
   ]
  },
  {
   "cell_type": "markdown",
   "id": "bd41ada9-a24a-4f7b-8b28-10f5392c63b6",
   "metadata": {},
   "source": [
    "14. Split a string into a list of words."
   ]
  },
  {
   "cell_type": "code",
   "execution_count": 20,
   "id": "4b886b3a-3bed-49fe-9266-0b146322d3f2",
   "metadata": {},
   "outputs": [
    {
     "name": "stdin",
     "output_type": "stream",
     "text": [
      "Enter a string: Hey good morning\n"
     ]
    },
    {
     "name": "stdout",
     "output_type": "stream",
     "text": [
      "List of words are: ['Hey', 'good', 'morning']\n"
     ]
    }
   ],
   "source": [
    "str14 = input(\"Enter a string:\") \n",
    "words = str14.split()\n",
    "print(\"List of words are:\",words)"
   ]
  },
  {
   "cell_type": "markdown",
   "id": "53994322-63e0-446f-b66e-de9ffb07b721",
   "metadata": {},
   "source": [
    "15. Join a list of words into a string."
   ]
  },
  {
   "cell_type": "code",
   "execution_count": 3,
   "id": "9c85d034-df9f-4d12-820d-df5ec3e596bf",
   "metadata": {},
   "outputs": [
    {
     "name": "stdin",
     "output_type": "stream",
     "text": [
      "Enter number of elements :  4\n",
      "Enter the words of a list: hy\n",
      "Enter the words of a list: how \n",
      "Enter the words of a list: are \n",
      "Enter the words of a list: you\n"
     ]
    },
    {
     "name": "stdout",
     "output_type": "stream",
     "text": [
      "The list of words are ['hy', 'how ', 'are ', 'you']\n",
      "Joined string is: hy how  are  you\n"
     ]
    }
   ],
   "source": [
    "l1 = [] # taking input as a list\n",
    "n = int(input(\"Enter number of elements : \"))\n",
    "for i in range(0, n):\n",
    "    ele = input(\"Enter the words of a list:\")\n",
    "    l1.append(ele) \n",
    "print(\"The list of words are\",l1)    \n",
    "str15=\" \".join(l1)  # joining the words of a list into a string \n",
    "print(\"Joined string is:\",str15) \n"
   ]
  },
  {
   "cell_type": "markdown",
   "id": "10746268-4348-4eba-bd94-606ec5569161",
   "metadata": {},
   "source": [
    "16. Convert a string where words are separated by spaces to one where words\n",
    "are separated by underscores."
   ]
  },
  {
   "cell_type": "code",
   "execution_count": 4,
   "id": "03d8d99b-9963-4337-9155-03bdf97604ec",
   "metadata": {},
   "outputs": [
    {
     "name": "stdin",
     "output_type": "stream",
     "text": [
      "Enter a string: Hey Good Morning\n"
     ]
    },
    {
     "name": "stdout",
     "output_type": "stream",
     "text": [
      "The modified string is: Hey_Good_Morning\n"
     ]
    }
   ],
   "source": [
    "str16=input(\"Enter a string:\") # take input as a string\n",
    "new_str16=str16.replace(' ','_') # replace space with underscore\n",
    "print(\"The modified string is:\",new_str16) # print the modiefies string"
   ]
  },
  {
   "cell_type": "markdown",
   "id": "90ea7b79-00e7-47d7-a328-694949f5a142",
   "metadata": {},
   "source": [
    "17. Check if a string starts with a specific word or phrase."
   ]
  },
  {
   "cell_type": "code",
   "execution_count": 8,
   "id": "9fdbabac-7056-4b39-a468-07bc62bb7fb7",
   "metadata": {},
   "outputs": [
    {
     "name": "stdin",
     "output_type": "stream",
     "text": [
      "Enter a string: hey good morning\n",
      "Enter the phrase good\n"
     ]
    },
    {
     "name": "stdout",
     "output_type": "stream",
     "text": [
      "The text doesn't start with the phrase\n"
     ]
    }
   ],
   "source": [
    "str17,ph=input(\"Enter a string:\"),input(\"Enter the phrase\")  \n",
    "if str17.startswith(ph): # check the string starts with the phrase or not\n",
    "    print(\"The text starts with the phrase\")\n",
    "else:\n",
    "    print(\"The text doesn't start with the phrase\")"
   ]
  },
  {
   "cell_type": "markdown",
   "id": "11f75c8c-5e5b-42e9-8c80-862753771b06",
   "metadata": {},
   "source": [
    "18. Check if a string ends with a specific word or phrase."
   ]
  },
  {
   "cell_type": "code",
   "execution_count": 10,
   "id": "80de220a-d898-4c30-896a-8aee336faf07",
   "metadata": {},
   "outputs": [
    {
     "name": "stdin",
     "output_type": "stream",
     "text": [
      "Enter a string: hey good morning\n",
      "Enter the phrase morning\n"
     ]
    },
    {
     "name": "stdout",
     "output_type": "stream",
     "text": [
      "The text ends with the phrase\n"
     ]
    }
   ],
   "source": [
    "str18,ph=input(\"Enter a string:\"),input(\"Enter the phrase\")  \n",
    "if str18.endswith(ph): # check the string starts with the phrase or not\n",
    "    print(\"The text ends with the phrase\")\n",
    "else:\n",
    "    print(\"The text doesn't end with the phrase\")"
   ]
  },
  {
   "cell_type": "markdown",
   "id": "add784cc-7a8b-4513-b89e-d2cf9e21fbfa",
   "metadata": {},
   "source": [
    "19. Convert a string to title case (e.g., \"hello world\" to \"Hello World\")."
   ]
  },
  {
   "cell_type": "code",
   "execution_count": 13,
   "id": "a7f9e8de-21e1-4f54-a564-a2d8fd6fc3cd",
   "metadata": {},
   "outputs": [
    {
     "name": "stdin",
     "output_type": "stream",
     "text": [
      "Enter a string: hello world\n"
     ]
    },
    {
     "name": "stdout",
     "output_type": "stream",
     "text": [
      "The title case string is:  Hello World\n"
     ]
    }
   ],
   "source": [
    "str19=input(\"Enter a string:\")\n",
    "print(\"The title case string is: \", str19.title())"
   ]
  },
  {
   "cell_type": "markdown",
   "id": "f16cda80-b895-4125-b982-fd6412c4134d",
   "metadata": {},
   "source": [
    "20. Find the longest word in a string."
   ]
  },
  {
   "cell_type": "code",
   "execution_count": 17,
   "id": "131892ca-345b-43ec-b67f-773747bbbf45",
   "metadata": {},
   "outputs": [
    {
     "name": "stdin",
     "output_type": "stream",
     "text": [
      "Enter a string: hey good morning\n"
     ]
    },
    {
     "name": "stdout",
     "output_type": "stream",
     "text": [
      "The longest word is: morning\n"
     ]
    }
   ],
   "source": [
    "str20=input(\"Enter a string:\")\n",
    "words=str20.split()\n",
    "max_len=0\n",
    "for word in words:\n",
    "    if len(word)>max_len:\n",
    "        max_len=len(word)\n",
    "        long_word=word\n",
    "print(\"The longest word is:\", long_word)"
   ]
  },
  {
   "cell_type": "markdown",
   "id": "6f2be61f-aa97-44c7-9a8b-5c4ee0b93aee",
   "metadata": {},
   "source": [
    "21. Find the shortest word in a string."
   ]
  },
  {
   "cell_type": "code",
   "execution_count": 21,
   "id": "c650ae1d-a1b9-4921-8c3b-3d8cc48d3c1a",
   "metadata": {},
   "outputs": [
    {
     "name": "stdin",
     "output_type": "stream",
     "text": [
      "Enter a string: hey good morning\n"
     ]
    },
    {
     "name": "stdout",
     "output_type": "stream",
     "text": [
      "The shortest word is: hey\n"
     ]
    }
   ],
   "source": [
    "str21=input(\"Enter a string:\")\n",
    "words=str21.split()\n",
    "min_len=100\n",
    "for word in words:\n",
    "    if len(word)<min_len:\n",
    "        min_len=len(word)\n",
    "        short_word=word\n",
    "print(\"The shortest word is:\", short_word)"
   ]
  },
  {
   "cell_type": "markdown",
   "id": "42e5687b-f7d5-43be-ba87-e86e6761c7f0",
   "metadata": {},
   "source": [
    "22. Reverse the order of words in a string."
   ]
  },
  {
   "cell_type": "code",
   "execution_count": 118,
   "id": "609c5c5a-8981-4692-b027-45c08d91ac43",
   "metadata": {},
   "outputs": [
    {
     "name": "stdin",
     "output_type": "stream",
     "text": [
      "Enter a string: hey have a nice day\n"
     ]
    },
    {
     "name": "stdout",
     "output_type": "stream",
     "text": [
      "The reversed order is:day nice a have hey\n"
     ]
    }
   ],
   "source": [
    "str22=input(\"Enter a string:\")\n",
    "l2=str22.split()\n",
    "str22_rev=l2[::-1]\n",
    "print(f\"The reversed order is:{' '.join(str22_rev)}\")"
   ]
  },
  {
   "cell_type": "markdown",
   "id": "bad883c9-751e-466a-9af4-c669720dddbf",
   "metadata": {},
   "source": [
    "23. Check if a string is alphanumeric.\n"
   ]
  },
  {
   "cell_type": "code",
   "execution_count": 38,
   "id": "9e72c768-89d1-44c7-bae2-f57faf3deccc",
   "metadata": {},
   "outputs": [
    {
     "name": "stdin",
     "output_type": "stream",
     "text": [
      "Enter the string: Hey morning\n"
     ]
    },
    {
     "name": "stdout",
     "output_type": "stream",
     "text": [
      "The string is alphanumeric\n"
     ]
    }
   ],
   "source": [
    "str23=input(\"Enter the string:\")\n",
    "if str23.isalnum :\n",
    "    print(\"The string is alphanumeric\")\n",
    "else:\n",
    "    print(\"The string isn't alphanumeric\")"
   ]
  },
  {
   "cell_type": "markdown",
   "id": "c5e2f360-da52-42c3-bf9d-a0800e6713fe",
   "metadata": {},
   "source": [
    "24. Extract all digits from a string."
   ]
  },
  {
   "cell_type": "code",
   "execution_count": 40,
   "id": "6d096f72-4371-4f74-9927-8f0f0b034c1c",
   "metadata": {},
   "outputs": [
    {
     "name": "stdin",
     "output_type": "stream",
     "text": [
      "Enter the string: hey7894\n"
     ]
    },
    {
     "name": "stdout",
     "output_type": "stream",
     "text": [
      "The extracted digits are: 7894\n"
     ]
    }
   ],
   "source": [
    "str24=input(\"Enter the string:\")\n",
    "d=''\n",
    "for i in str24:\n",
    "    if i.isdigit():\n",
    "        d+=i\n",
    "        \n",
    "print(\"The extracted digits are:\",d)"
   ]
  },
  {
   "cell_type": "markdown",
   "id": "9fb3c7ea-d165-4595-ab0c-21d9d5797ff3",
   "metadata": {},
   "source": [
    "25. Extract all alphabets from a string."
   ]
  },
  {
   "cell_type": "code",
   "execution_count": 41,
   "id": "3351773c-7b58-4f46-8c69-7acc448f8ec9",
   "metadata": {},
   "outputs": [
    {
     "name": "stdin",
     "output_type": "stream",
     "text": [
      "Enter the string: hey4541good7741\n"
     ]
    },
    {
     "name": "stdout",
     "output_type": "stream",
     "text": [
      "The extracted alphabets are: heygood\n"
     ]
    }
   ],
   "source": [
    "str25=input(\"Enter the string:\")\n",
    "alpha=''\n",
    "for i in str25:\n",
    "    if i.isalpha():\n",
    "        alpha+=i\n",
    "        \n",
    "print(\"The extracted alphabets are:\",alpha)"
   ]
  },
  {
   "cell_type": "markdown",
   "id": "06d5866d-db3e-4d36-91d0-b6592e1c28a4",
   "metadata": {},
   "source": [
    "26. Count the number of uppercase letters in a string."
   ]
  },
  {
   "cell_type": "code",
   "execution_count": 3,
   "id": "afc431da-a227-4753-85d4-ddca0f914dcb",
   "metadata": {},
   "outputs": [
    {
     "name": "stdin",
     "output_type": "stream",
     "text": [
      "Enter the string: Hey MorninG\n"
     ]
    },
    {
     "name": "stdout",
     "output_type": "stream",
     "text": [
      "The number of uppercase 3\n"
     ]
    }
   ],
   "source": [
    "str26=input(\"Enter the string:\")\n",
    "sum=0\n",
    "for char in str26:\n",
    "    if char.isupper():\n",
    "        sum+=1\n",
    "    \n",
    "print(\"The number of uppercase\",sum)"
   ]
  },
  {
   "cell_type": "markdown",
   "id": "caae9cd4-83ed-42a5-83b7-456ddcb2d353",
   "metadata": {},
   "source": [
    "27. Count the number of lowercase letters in a string."
   ]
  },
  {
   "cell_type": "code",
   "execution_count": 1,
   "id": "0f9f3cb7-6656-44fa-8145-ac2164799ac6",
   "metadata": {},
   "outputs": [
    {
     "name": "stdin",
     "output_type": "stream",
     "text": [
      "Enter the string: Hey \n"
     ]
    },
    {
     "name": "stdout",
     "output_type": "stream",
     "text": [
      "The number of uppercase 2\n"
     ]
    }
   ],
   "source": [
    "str27=input(\"Enter the string:\")\n",
    "sum=0\n",
    "for char in str26:\n",
    "    if char.islower():\n",
    "        sum+=1\n",
    "    \n",
    "print(\"The number of uppercase\",sum)"
   ]
  },
  {
   "cell_type": "markdown",
   "id": "ab30045e-68bf-4466-ad85-260d592606ff",
   "metadata": {},
   "source": [
    "28. Swap the case of each character in a string."
   ]
  },
  {
   "cell_type": "code",
   "execution_count": 1,
   "id": "62bf00fa-bfbe-4283-8d2c-7d452d65c78e",
   "metadata": {},
   "outputs": [
    {
     "name": "stdin",
     "output_type": "stream",
     "text": [
      "Enter the string: HeY MorninG\n"
     ]
    },
    {
     "name": "stdout",
     "output_type": "stream",
     "text": [
      "After swapping the case of each character: hEy mORNINg\n"
     ]
    }
   ],
   "source": [
    "str28=input(\"Enter the string:\")\n",
    "swap_case=str28.swapcase()\n",
    "print(\"After swapping the case of each character:\",swap_case)"
   ]
  },
  {
   "cell_type": "markdown",
   "id": "b3010341-9cbb-4f55-b8ac-087effc492aa",
   "metadata": {},
   "source": [
    "29. Remove a specific word from a string."
   ]
  },
  {
   "cell_type": "code",
   "execution_count": 4,
   "id": "5c683096-eb1b-4900-a019-04300da2eb93",
   "metadata": {},
   "outputs": [
    {
     "name": "stdin",
     "output_type": "stream",
     "text": [
      "Enter the string: Hey morning.How r u?\n",
      "enter the specific word you wanna remove: r\n"
     ]
    },
    {
     "name": "stdout",
     "output_type": "stream",
     "text": [
      "The string is: Hey moning.How  u?\n"
     ]
    }
   ],
   "source": [
    "str29=input(\"Enter the string:\")\n",
    "word=input(\"enter the specific word you wanna remove:\")\n",
    "rem_word=str28.replace(word,\"\")\n",
    "print(\"The string is:\",rem_word)"
   ]
  },
  {
   "cell_type": "markdown",
   "id": "a3aba90b-0315-4bc7-884a-bbbc87b5616f",
   "metadata": {},
   "source": [
    "30. Check if a string is a valid email address."
   ]
  },
  {
   "cell_type": "code",
   "execution_count": 8,
   "id": "bc025378-c883-4e4d-aa8c-4f021e794155",
   "metadata": {},
   "outputs": [
    {
     "name": "stdin",
     "output_type": "stream",
     "text": [
      "Enter the string: gdcb736@g6.com\n"
     ]
    },
    {
     "name": "stdout",
     "output_type": "stream",
     "text": [
      "This is a valid email address\n"
     ]
    }
   ],
   "source": [
    "import re\n",
    "str30=input(\"Enter the string:\")\n",
    "pattern= r'^[a-zA-Z0-9_.+-]+@[a-zA-Z0-9-]+\\.[a-zA-Z0-9-.]+$' \n",
    "if re.match(pattern,str30):\n",
    "    print( \"This is a valid email address\")\n",
    "else:\n",
    "    print( \"This is not a valid email address\")"
   ]
  },
  {
   "cell_type": "markdown",
   "id": "3c7a45ca-4a0a-4356-93ed-0ba7a8124bfe",
   "metadata": {},
   "source": [
    "31. Extract the username from an email address string."
   ]
  },
  {
   "cell_type": "code",
   "execution_count": 10,
   "id": "748fa2e3-af41-43bf-b5e9-0410da7d1cee",
   "metadata": {},
   "outputs": [
    {
     "name": "stdin",
     "output_type": "stream",
     "text": [
      "Enter the string: subh@gmail.com\n"
     ]
    },
    {
     "name": "stdout",
     "output_type": "stream",
     "text": [
      "The username is: subh\n"
     ]
    }
   ],
   "source": [
    "str31=input(\"Enter the string:\")\n",
    "print(\"The username is:\",str31.split('@')[0])"
   ]
  },
  {
   "cell_type": "markdown",
   "id": "9d4026c9-90c9-4586-ae2b-50d993e4ae41",
   "metadata": {},
   "source": [
    "32. Extract the domain name from an email address string."
   ]
  },
  {
   "cell_type": "code",
   "execution_count": 11,
   "id": "20469356-c48d-4534-932a-3297619d8198",
   "metadata": {},
   "outputs": [
    {
     "name": "stdin",
     "output_type": "stream",
     "text": [
      "Enter the string: subh@gmail.com\n"
     ]
    },
    {
     "name": "stdout",
     "output_type": "stream",
     "text": [
      "The username is: gmail.com\n"
     ]
    }
   ],
   "source": [
    "str32=input(\"Enter the string:\")\n",
    "print(\"The username is:\",str32.split('@')[1])"
   ]
  },
  {
   "cell_type": "markdown",
   "id": "eaab5a2f-207d-4f96-9a83-a51a94b25533",
   "metadata": {},
   "source": [
    "33. Replace multiple spaces in a string with a single space."
   ]
  },
  {
   "cell_type": "code",
   "execution_count": 19,
   "id": "d8f18120-02c7-48c7-be5a-39c97176ffd5",
   "metadata": {},
   "outputs": [
    {
     "name": "stdin",
     "output_type": "stream",
     "text": [
      "Enter the string: i      am    a good   student\n"
     ]
    },
    {
     "name": "stdout",
     "output_type": "stream",
     "text": [
      "The replaced string is: i am a good student\n"
     ]
    }
   ],
   "source": [
    "str33=input(\"Enter the string:\")\n",
    "sp=str33.split() # split the string \n",
    "repl_str=' '.join(sp) # join by a single space\n",
    "print(\"The replaced string is:\",repl_str)"
   ]
  },
  {
   "cell_type": "markdown",
   "id": "3c781e6b-5895-483d-9003-cff229f958ba",
   "metadata": {},
   "source": [
    "34. Check if a string is a valid URL."
   ]
  },
  {
   "cell_type": "code",
   "execution_count": 2,
   "id": "ea259151-9317-441c-baff-c18dab8f684e",
   "metadata": {},
   "outputs": [
    {
     "name": "stdin",
     "output_type": "stream",
     "text": [
      "Enter the string: http://www.example.com/index.html\n"
     ]
    },
    {
     "name": "stdout",
     "output_type": "stream",
     "text": [
      "It's a valid URL\n"
     ]
    }
   ],
   "source": [
    "import re\n",
    "str34=input(\"Enter the string:\")\n",
    "pattern = r'^(http|https):\\/\\/([\\w.-]+)(\\.[\\w.-]+)+([\\/\\w\\.-]*)*\\/?$'\n",
    "if re.match(pattern,str34):\n",
    "    print(\"It's a valid URL\")\n",
    "else:\n",
    "    print(\"It's not a valid URL\")\n",
    "        "
   ]
  },
  {
   "cell_type": "markdown",
   "id": "6cecf634-08a0-465c-8796-ac9e9138f994",
   "metadata": {},
   "source": [
    "35. Extract the protocol (http or https) from a URL string."
   ]
  },
  {
   "cell_type": "code",
   "execution_count": 1,
   "id": "e35f160f-8888-48b7-83d0-1fad16023131",
   "metadata": {},
   "outputs": [
    {
     "name": "stdin",
     "output_type": "stream",
     "text": [
      "Enter the string: http://www.example.com/index.html\n"
     ]
    },
    {
     "name": "stdout",
     "output_type": "stream",
     "text": [
      "The username is: http\n"
     ]
    }
   ],
   "source": [
    "str35=input(\"Enter the string:\")\n",
    "print(\"The username is:\",str35.split('://')[0])"
   ]
  },
  {
   "cell_type": "markdown",
   "id": "3818e6d5-3623-4bcc-8ecc-6c8cd00c9914",
   "metadata": {},
   "source": [
    "36. Find the frequency of each character in a string."
   ]
  },
  {
   "cell_type": "code",
   "execution_count": 2,
   "id": "92154c40-e59f-4f49-ab8d-96539c5e2470",
   "metadata": {},
   "outputs": [
    {
     "name": "stdin",
     "output_type": "stream",
     "text": [
      "Enter the string: hey morning\n"
     ]
    },
    {
     "name": "stdout",
     "output_type": "stream",
     "text": [
      "frequency of each character in hey morning is given below.\n",
      " The frequncy of h is: 1\n",
      " The frequncy of e is: 1\n",
      " The frequncy of y is: 1\n",
      " The frequncy of   is: 1\n",
      " The frequncy of m is: 1\n",
      " The frequncy of o is: 1\n",
      " The frequncy of r is: 1\n",
      " The frequncy of n is: 2\n",
      " The frequncy of i is: 1\n",
      " The frequncy of g is: 1\n"
     ]
    }
   ],
   "source": [
    "str36=input(\"Enter the string:\")\n",
    "freq={}\n",
    "for i in str36:\n",
    "    if i in freq:\n",
    "        freq[i]+=1\n",
    "    else:\n",
    "        freq[i]=1\n",
    "    \n",
    "print(\"frequency of each character in\", str36, \"is given below.\")\n",
    "for i in freq.keys():\n",
    "    print(\" The frequncy of\",i,\"is:\",freq[i])"
   ]
  },
  {
   "cell_type": "markdown",
   "id": "46142ca3-f0ea-44f4-93d4-87920cd132f2",
   "metadata": {},
   "source": [
    "37. Remove all punctuation from a string."
   ]
  },
  {
   "cell_type": "code",
   "execution_count": 4,
   "id": "7b55f043-3e99-4d88-879e-8df90fd45eba",
   "metadata": {},
   "outputs": [
    {
     "name": "stdin",
     "output_type": "stream",
     "text": [
      "Enter the string: hey, good morning! How are you?\n"
     ]
    },
    {
     "name": "stdout",
     "output_type": "stream",
     "text": [
      "The removes string is: hey good morning How are you\n"
     ]
    }
   ],
   "source": [
    "import string\n",
    "str37=input(\"Enter the string:\")\n",
    "str37 = str37.translate(str.maketrans('', '', string.punctuation))\n",
    "print(\"The removes string is:\",str37)"
   ]
  },
  {
   "cell_type": "markdown",
   "id": "53c6317b-080e-4e7b-9b9c-55dc83df375c",
   "metadata": {},
   "source": [
    "38. Check if a string contains only digits."
   ]
  },
  {
   "cell_type": "code",
   "execution_count": 7,
   "id": "f5f4855b-aaaf-41a4-ba53-508f7fc9bb47",
   "metadata": {},
   "outputs": [
    {
     "name": "stdin",
     "output_type": "stream",
     "text": [
      "Enter the string: 520\n"
     ]
    },
    {
     "name": "stdout",
     "output_type": "stream",
     "text": [
      "The string conatins only digits\n"
     ]
    }
   ],
   "source": [
    "str38=input(\"Enter the string:\")\n",
    "if str38.isdigit()==True:\n",
    "    print(\"The string conatins only digits\")\n",
    "else:\n",
    "    print(\"The string doesn't contain only digits\")"
   ]
  },
  {
   "cell_type": "markdown",
   "id": "4a610b4a-0bc6-41fc-b6a1-6a91b87c7e72",
   "metadata": {},
   "source": [
    "39. Check if a string contains only alphabets."
   ]
  },
  {
   "cell_type": "code",
   "execution_count": 11,
   "id": "d420dc3b-926e-45a0-8f4a-2d52b314569f",
   "metadata": {},
   "outputs": [
    {
     "name": "stdin",
     "output_type": "stream",
     "text": [
      "Enter the string: hey56\n"
     ]
    },
    {
     "name": "stdout",
     "output_type": "stream",
     "text": [
      "The string doesn't contain only alphabets\n"
     ]
    }
   ],
   "source": [
    "str39=input(\"Enter the string:\")\n",
    "if str39.isalpha()==True:\n",
    "    print(\"The string conatins only alphabets\")\n",
    "else:\n",
    "    print(\"The string doesn't contain only alphabets\")"
   ]
  },
  {
   "cell_type": "markdown",
   "id": "77456728-464f-49f7-b6da-14b657a460c2",
   "metadata": {},
   "source": [
    "40. Convert a string to a list of characters."
   ]
  },
  {
   "cell_type": "code",
   "execution_count": 4,
   "id": "302e420c-1485-4ace-83a2-25805a7ccca1",
   "metadata": {},
   "outputs": [
    {
     "name": "stdin",
     "output_type": "stream",
     "text": [
      "Enter the string: hey morning\n"
     ]
    },
    {
     "name": "stdout",
     "output_type": "stream",
     "text": [
      "The list of characters is: ['h', 'e', 'y', ' ', 'm', 'o', 'r', 'n', 'i', 'n', 'g']\n"
     ]
    }
   ],
   "source": [
    "str40=input(\"Enter the string:\")\n",
    "ls40=list(str40)\n",
    "print(\"The list of characters is:\",ls40)"
   ]
  },
  {
   "cell_type": "markdown",
   "id": "342ceed1-7815-47b2-9cfa-eecd4ef004dd",
   "metadata": {},
   "source": [
    "41. Check if two strings are anagrams."
   ]
  },
  {
   "cell_type": "code",
   "execution_count": 7,
   "id": "cb5fb49b-d399-49a0-ac4c-a5ce1eff3492",
   "metadata": {},
   "outputs": [
    {
     "name": "stdin",
     "output_type": "stream",
     "text": [
      "Enter the string: listen\n",
      "Enter the string: silent\n"
     ]
    },
    {
     "name": "stdout",
     "output_type": "stream",
     "text": [
      "The strings are anagrams.\n"
     ]
    }
   ],
   "source": [
    "str41a=input(\"Enter the string:\")\n",
    "str41b=input(\"Enter the string:\")\n",
    "if(sorted(str41a)== sorted(str41b)):\n",
    "    print(\"The strings are anagrams.\") \n",
    "else:\n",
    "    print(\"The strings aren't anagrams.\")         \n",
    "         "
   ]
  },
  {
   "cell_type": "markdown",
   "id": "8c9c0902-8aee-41d6-9ef5-19af699399b1",
   "metadata": {},
   "source": [
    "42. Encode a string using a Caesar cipher."
   ]
  },
  {
   "cell_type": "code",
   "execution_count": 39,
   "id": "b307da96-61aa-4c91-8180-ad761ef3431a",
   "metadata": {},
   "outputs": [],
   "source": [
    "def caesar_cipher(str42,s):\n",
    "    result=\"\"\n",
    "    for i in str42:\n",
    "        if i==\" \":\n",
    "            result+=\" \"\n",
    "        elif i.isupper():\n",
    "            result += chr((ord(i) + s - 65) % 26 + 65)  \n",
    "        else :\n",
    "            result += chr((ord(i) + s - 97) % 26 + 97)\n",
    "    return result\n",
    "            "
   ]
  },
  {
   "cell_type": "code",
   "execution_count": 40,
   "id": "11e9684a-9e6d-49f0-a78d-3a896f51ec31",
   "metadata": {},
   "outputs": [
    {
     "data": {
      "text/plain": [
       "'Khb pruqlqj'"
      ]
     },
     "execution_count": 40,
     "metadata": {},
     "output_type": "execute_result"
    }
   ],
   "source": [
    "caesar_cipher(\"Hey morning\",3)"
   ]
  },
  {
   "cell_type": "markdown",
   "id": "a71de587-6b69-4149-ab42-7a5bd924fd04",
   "metadata": {},
   "source": [
    "43. Decode a Caesar cipher encoded string."
   ]
  },
  {
   "cell_type": "code",
   "execution_count": 46,
   "id": "ea9b3ea6-fd61-4f02-8653-13001ecfef84",
   "metadata": {},
   "outputs": [],
   "source": [
    "def caesar_cipher_decoder(str43,s):\n",
    "    result=\"\"\n",
    "    for i in str43:\n",
    "        if i==\" \":\n",
    "            result+=\" \"\n",
    "        elif i.isupper():\n",
    "            result += chr((ord(i) - s - 65) % 26 + 65)  \n",
    "        else :\n",
    "            result += chr((ord(i) - s - 97) % 26 + 97)\n",
    "    return result\n",
    "            "
   ]
  },
  {
   "cell_type": "code",
   "execution_count": 47,
   "id": "0007b3dc-38a4-463f-b674-21124db168c7",
   "metadata": {},
   "outputs": [
    {
     "data": {
      "text/plain": [
       "'Hey morning'"
      ]
     },
     "execution_count": 47,
     "metadata": {},
     "output_type": "execute_result"
    }
   ],
   "source": [
    "caesar_cipher_decoder('Khb pruqlqj',3)"
   ]
  },
  {
   "cell_type": "markdown",
   "id": "e1644f7b-b700-435f-8f8b-4477a1107080",
   "metadata": {},
   "source": [
    "44. Find the most frequent word in a string"
   ]
  },
  {
   "cell_type": "code",
   "execution_count": 20,
   "id": "15de4fbe-db4d-4453-9cf8-8c9d6e263538",
   "metadata": {},
   "outputs": [
    {
     "name": "stdin",
     "output_type": "stream",
     "text": [
      "Enter the string: i felt happy because i saw the others were happy and because i knew i should feel happy but i wasn't really happy\n"
     ]
    },
    {
     "name": "stdout",
     "output_type": "stream",
     "text": [
      "The most frequent word in a string: ('i', 5)\n"
     ]
    }
   ],
   "source": [
    "str44=input(\"Enter the string:\")\n",
    "count={}\n",
    "ls44=str44.split(' ')\n",
    "for word in ls44:\n",
    "    if word in count:\n",
    "        count[word]+=1\n",
    "    else:\n",
    "        count[word]=1\n",
    "    count_x=sorted(count.items(), key=lambda w:w[1])\n",
    "    \n",
    "print(\"The most frequent word in a string:\",count_x[-1])"
   ]
  },
  {
   "cell_type": "markdown",
   "id": "4c9e0d25-a230-4d53-ac3a-b753704f9df2",
   "metadata": {},
   "source": [
    "45. Find all unique words in a string."
   ]
  },
  {
   "cell_type": "code",
   "execution_count": 19,
   "id": "9cd43e54-8841-4787-bfaa-7ab767384d95",
   "metadata": {},
   "outputs": [
    {
     "name": "stdin",
     "output_type": "stream",
     "text": [
      "Enter the string: i felt happy because i saw the others were happy and because i knew i should feel happy but i wasn't really happy\n"
     ]
    },
    {
     "name": "stdout",
     "output_type": "stream",
     "text": [
      "{'i': 5, 'felt': 1, 'happy': 4, 'because': 2, 'saw': 1, 'the': 1, 'others': 1, 'were': 1, 'and': 1, 'knew': 1, 'should': 1, 'feel': 1, 'but': 1, \"wasn't\": 1, 'really': 1}\n",
      "The unique words in a string is: ['felt', 'saw', 'the', 'others', 'were', 'and', 'knew', 'should', 'feel', 'but', \"wasn't\", 'really']\n"
     ]
    }
   ],
   "source": [
    "str45=input(\"Enter the string:\")\n",
    "count={}\n",
    "count_y=[]\n",
    "ls45=str45.split(' ')\n",
    "for word in ls45:\n",
    "    if word in count:\n",
    "        count[word]+=1\n",
    "    else:\n",
    "        count[word]=1\n",
    "print(count)\n",
    "for word in count.keys():\n",
    "    if count[word]==1:\n",
    "        count_y.append(word)\n",
    "print(\"The unique words in a string is:\",count_y)"
   ]
  },
  {
   "cell_type": "markdown",
   "id": "0601705d-3a7d-40d2-b11b-0c5c7e487e13",
   "metadata": {},
   "source": [
    "46. Count the number of syllables in a string.\n"
   ]
  },
  {
   "cell_type": "code",
   "execution_count": 31,
   "id": "b0b4e56f-52a8-407c-94c3-094f8b7ff1e6",
   "metadata": {},
   "outputs": [
    {
     "name": "stdin",
     "output_type": "stream",
     "text": [
      "Enter the string: syllanle\n"
     ]
    },
    {
     "name": "stdout",
     "output_type": "stream",
     "text": [
      "The number of syllable is: 3\n"
     ]
    }
   ],
   "source": [
    "str46=input(\"Enter the string:\")\n",
    "str46=str46.lower()\n",
    "count = 0\n",
    "vowels = \"aeiouy\"\n",
    "for i in range(0,len(str46)):\n",
    "    if str46[i] in vowels:\n",
    "        count += 1\n",
    "    \n",
    "print(\"The number of syllable is:\",count) "
   ]
  },
  {
   "cell_type": "markdown",
   "id": "32a8be2a-87f0-4b8a-8d5a-b7e38d475d2a",
   "metadata": {},
   "source": [
    "47. Check if a string contains any special characters."
   ]
  },
  {
   "cell_type": "code",
   "execution_count": 3,
   "id": "640445a8-16b5-4eb1-ba3f-b22b9c1cb210",
   "metadata": {},
   "outputs": [
    {
     "name": "stdin",
     "output_type": "stream",
     "text": [
      "Enter the word Hey@good morning\n"
     ]
    },
    {
     "name": "stdout",
     "output_type": "stream",
     "text": [
      "The string contains special character\n"
     ]
    }
   ],
   "source": [
    "def check_special(str47):\n",
    "    for i in str47:\n",
    "        if i.isalpha()==True or i.isdigit()==True or i == ' ' :\n",
    "            return False\n",
    "        return False\n",
    "str47=input(\"Enter the word\")\n",
    "if check_special(str47):\n",
    "    print(\"The string doesn't contain special character\")\n",
    "else:\n",
    "    print(\"The string contains special character\")"
   ]
  },
  {
   "cell_type": "markdown",
   "id": "389cffbe-5340-444a-9a22-f5efdd815f2d",
   "metadata": {},
   "source": [
    "48. Remove the nth word from a string."
   ]
  },
  {
   "cell_type": "code",
   "execution_count": 6,
   "id": "c5a71ed4-a580-4b2c-8ba6-6172a8679672",
   "metadata": {},
   "outputs": [
    {
     "name": "stdin",
     "output_type": "stream",
     "text": [
      "Enter the string: hey have a very nice day\n",
      "Enter the index number for which word is removed: 4\n"
     ]
    },
    {
     "name": "stdout",
     "output_type": "stream",
     "text": [
      "After removing nth word from a string, the new string is: hey have a nice day\n",
      "The removed word is: very\n"
     ]
    }
   ],
   "source": [
    "str48=input(\"Enter the string:\")\n",
    "n=int(input(\"Enter the index number for which word is removed:\"))\n",
    "ls48=str48.split()\n",
    "if n>=1 and n<=len(ls48):\n",
    "    new=ls48.pop(n-1)\n",
    "str48_new=' '.join(ls48)\n",
    "print(\"After removing nth word from a string, the new string is:\",str48_new )\n",
    "print(\"The removed word is:\",new)"
   ]
  },
  {
   "cell_type": "markdown",
   "id": "d9ff10e5-8701-43de-bae1-a07450b6b171",
   "metadata": {},
   "source": [
    "49. Insert a word at the nth position in a string."
   ]
  },
  {
   "cell_type": "code",
   "execution_count": 129,
   "id": "bfb40c30-fad8-410e-b750-0dd9bf89ecd4",
   "metadata": {},
   "outputs": [
    {
     "name": "stdin",
     "output_type": "stream",
     "text": [
      "Enter the string: hey a nice day\n",
      "Enter the index number in which word is inserted: 1\n",
      "Enter the word you want to insert: have\n"
     ]
    },
    {
     "name": "stdout",
     "output_type": "stream",
     "text": [
      "The inserted string is: hey have a nice day\n"
     ]
    }
   ],
   "source": [
    "str49=input(\"Enter the string:\")\n",
    "n1=int(input(\"Enter the index number in which word is inserted:\"))\n",
    "word=input(\"Enter the word you want to insert:\")\n",
    "ls49=str49.split()\n",
    "ls49.insert(n1,word)\n",
    "print(f\"The inserted string is: {' '.join(ls49)}\")   \n"
   ]
  },
  {
   "cell_type": "markdown",
   "id": "c74ea295-30a2-470f-b5a1-9828a137cf7e",
   "metadata": {},
   "source": [
    "50. Convert a CSV string to a list of lists."
   ]
  },
  {
   "cell_type": "code",
   "execution_count": 135,
   "id": "6857448d-273e-45ad-9ea2-19a954ff9d26",
   "metadata": {},
   "outputs": [
    {
     "name": "stdout",
     "output_type": "stream",
     "text": [
      "['Name', 'department', 'birthday_month']\n",
      "['John Smith', 'HR', 'July']\n",
      "['Alice Johnson', 'IT', 'October']\n",
      "['Bob Williams', 'Finance', 'January']\n"
     ]
    }
   ],
   "source": [
    "csv= \"Name,department,birthday_month\\nJohn Smith,HR,July\\nAlice Johnson,IT,October\\nBob Williams,Finance,January\"\n",
    "ls=csv.split('\\n')\n",
    "ls_ls=[]\n",
    "for i in ls:\n",
    "    ls_ls.append(i.split(','))\n",
    "    \n",
    "#print(f'The list of lists are:, {ls_ls}')\n",
    "for i in ls_ls:\n",
    "    print(i)"
   ]
  },
  {
   "cell_type": "markdown",
   "id": "5891148e-c6e9-413c-9513-7323eeeb4de3",
   "metadata": {},
   "source": [
    "### List Based Practice Problem :"
   ]
  },
  {
   "cell_type": "markdown",
   "id": "6cdefd46-d3ce-4821-ad91-621cb11671cc",
   "metadata": {},
   "source": [
    "1. Create a list with integers from 1 to 10."
   ]
  },
  {
   "cell_type": "code",
   "execution_count": 2,
   "id": "92f84315-d47c-4292-b164-e2113166ca2f",
   "metadata": {},
   "outputs": [
    {
     "name": "stdout",
     "output_type": "stream",
     "text": [
      "The list is: [1, 2, 3, 4, 5, 6, 7, 8, 9, 10]\n"
     ]
    }
   ],
   "source": [
    "l1=[]\n",
    "for i in range(1,11):\n",
    "    l1.append(i)\n",
    "    \n",
    "print(\"The list is:\",l1)"
   ]
  },
  {
   "cell_type": "markdown",
   "id": "88db6363-3885-410e-a6a6-9d63b6e14099",
   "metadata": {},
   "source": [
    "2. Find the length of a list without using the `len()` function."
   ]
  },
  {
   "cell_type": "code",
   "execution_count": 5,
   "id": "90aa4845-3dd9-4494-b58a-146e6552240f",
   "metadata": {},
   "outputs": [
    {
     "name": "stdin",
     "output_type": "stream",
     "text": [
      "Enter the list 12345\n"
     ]
    },
    {
     "name": "stdout",
     "output_type": "stream",
     "text": [
      "['1', '2', '3', '4', '5']\n",
      "The length of a list: 5\n"
     ]
    }
   ],
   "source": [
    "l2=input(\"Enter the list\")\n",
    "count=0\n",
    "print(list(l2))\n",
    "for i in list(l2):\n",
    "    count+=1\n",
    "    \n",
    "print(\"The length of a list:\",count)"
   ]
  },
  {
   "cell_type": "markdown",
   "id": "261274fc-f011-4d0c-bcc8-0017ee823078",
   "metadata": {},
   "source": [
    "3. Append an element to the end of a list."
   ]
  },
  {
   "cell_type": "code",
   "execution_count": 9,
   "id": "c29f9089-759e-4841-ab1f-73f3a80cc3b0",
   "metadata": {},
   "outputs": [],
   "source": [
    "def list_append(l3):\n",
    "    el=input(\"Enter an element\")\n",
    "    l3.append(el)\n",
    "    print(\"The modifiec list is:\",l3)"
   ]
  },
  {
   "cell_type": "code",
   "execution_count": 10,
   "id": "2a21011a-fe5c-4d0c-840f-04bccd6e66b7",
   "metadata": {},
   "outputs": [
    {
     "name": "stdin",
     "output_type": "stream",
     "text": [
      "Enter an element \"o\"\n"
     ]
    },
    {
     "name": "stdout",
     "output_type": "stream",
     "text": [
      "The modifiec list is: [1, 2, 'li', '\"o\"']\n"
     ]
    }
   ],
   "source": [
    "list_append([1,2,\"li\"])"
   ]
  },
  {
   "cell_type": "markdown",
   "id": "011b23dc-aa2f-4143-b208-594ee2c349f7",
   "metadata": {},
   "source": [
    "4. Insert an element at a specific index in a list."
   ]
  },
  {
   "cell_type": "code",
   "execution_count": 8,
   "id": "dc676a72-0f58-4078-a1a5-6519a7ac1796",
   "metadata": {},
   "outputs": [
    {
     "name": "stdin",
     "output_type": "stream",
     "text": [
      "Enter an element 'orange'\n",
      "Enter the index number  1\n"
     ]
    },
    {
     "name": "stdout",
     "output_type": "stream",
     "text": [
      "The modifiec list is: [\"'orange'\", 'apple', 'banana', 'grapes']\n"
     ]
    }
   ],
   "source": [
    "def insert_ele(l4):\n",
    "    el=input(\"Enter an element\")\n",
    "    n=int(input(\"Enter the index number \"))\n",
    "    l4.insert(n-1,el)\n",
    "    print(\"The modifiec list is:\",l4)\n",
    "    \n",
    "    \n",
    "l4=['apple','banana','grapes']\n",
    "insert_ele(l4)"
   ]
  },
  {
   "cell_type": "markdown",
   "id": "8efeeee8-ff1e-4111-bc98-6d0050f132f9",
   "metadata": {},
   "source": [
    "5. Remove an element from a list by its value."
   ]
  },
  {
   "cell_type": "code",
   "execution_count": 9,
   "id": "04a7b9b6-abe1-41e4-86a8-43206bb87eba",
   "metadata": {},
   "outputs": [],
   "source": [
    "def re_element(l5):\n",
    "    w=input(\"Enter the element you wanna remove:\")\n",
    "    l5.remove(w)\n",
    "    print(\"The modified list is:\",l5)"
   ]
  },
  {
   "cell_type": "code",
   "execution_count": 11,
   "id": "340620f9-7505-4799-97df-58672c220203",
   "metadata": {},
   "outputs": [
    {
     "name": "stdin",
     "output_type": "stream",
     "text": [
      "Enter the element you wanna remove: d\n"
     ]
    },
    {
     "name": "stdout",
     "output_type": "stream",
     "text": [
      "The modified list is: ['a', 'b', 'c', 'e']\n"
     ]
    }
   ],
   "source": [
    "l5=['a','b','c','d','e']\n",
    "re_element(l5)"
   ]
  },
  {
   "cell_type": "markdown",
   "id": "c82c717b-e936-4d07-b85b-4e8f2f59fc05",
   "metadata": {},
   "source": [
    "6. Remove an element from a list by its index."
   ]
  },
  {
   "cell_type": "code",
   "execution_count": 14,
   "id": "ef3aa414-8788-4b24-af2b-9480237d60dc",
   "metadata": {},
   "outputs": [
    {
     "name": "stdin",
     "output_type": "stream",
     "text": [
      "Enter the index whose value you wanna remove: 1\n"
     ]
    },
    {
     "name": "stdout",
     "output_type": "stream",
     "text": [
      "The modified list is: ['b', 'c', 'd', 'e', 'f', 'g', 'h']\n"
     ]
    }
   ],
   "source": [
    "def re_element(l6):\n",
    "    w=int(input(\"Enter the index whose value you wanna remove:\"))\n",
    "    l6.pop(w-1)\n",
    "    print(\"The modified list is:\",l6)\n",
    "    \n",
    "l6=['a','b','c','d','e','f','g','h']\n",
    "re_element(l6)\n"
   ]
  },
  {
   "cell_type": "markdown",
   "id": "00b4f8c4-0b2c-4de1-9400-376f996d859c",
   "metadata": {},
   "source": [
    "7. Check if an element exists in a list."
   ]
  },
  {
   "cell_type": "code",
   "execution_count": 24,
   "id": "b5e5b5f4-3bb8-4ea3-a0f1-5981b7f96732",
   "metadata": {},
   "outputs": [
    {
     "name": "stdin",
     "output_type": "stream",
     "text": [
      "Enter the element: f\n"
     ]
    },
    {
     "name": "stdout",
     "output_type": "stream",
     "text": [
      "The element f exists in the list\n"
     ]
    }
   ],
   "source": [
    "l7=['a','b','c','d','e','f','g','h']\n",
    "word=input(\"Enter the element:\")\n",
    "for i in range(len(l7)):\n",
    "    if l7[i]==word:\n",
    "        print(\"The element\",word,\"exists in the list\")"
   ]
  },
  {
   "cell_type": "markdown",
   "id": "c7ed10f5-ed5e-46e8-9d42-42407ed557bf",
   "metadata": {},
   "source": [
    "8. Find the index of the first occurrence of an element\n"
   ]
  },
  {
   "cell_type": "code",
   "execution_count": 27,
   "id": "2a3f766d-61ab-45fb-825f-53274aef0bec",
   "metadata": {},
   "outputs": [
    {
     "name": "stdin",
     "output_type": "stream",
     "text": [
      "Enter the element: f\n"
     ]
    },
    {
     "name": "stdout",
     "output_type": "stream",
     "text": [
      "The index of the element f is 5\n"
     ]
    }
   ],
   "source": [
    "l8=['a','b','c','d','e','f','g','h']\n",
    "word=input(\"Enter the element:\")\n",
    "print(\"The index of the element\", word, \"is\",l8.index(word))"
   ]
  },
  {
   "cell_type": "markdown",
   "id": "bb26539c-fb40-4c3a-86c5-eabf0aaac6d9",
   "metadata": {},
   "source": [
    "9. Count the occurrences of an element in a list."
   ]
  },
  {
   "cell_type": "code",
   "execution_count": 29,
   "id": "142e7a13-abb0-4cf3-a2fb-d43904c25cc5",
   "metadata": {},
   "outputs": [
    {
     "name": "stdin",
     "output_type": "stream",
     "text": [
      "Enter the element: c\n"
     ]
    },
    {
     "name": "stdout",
     "output_type": "stream",
     "text": [
      "The occurences of an element: 4\n"
     ]
    }
   ],
   "source": [
    "l9=['a','b','c','d','e','f','a','b','b','c','c','c']\n",
    "word=input(\"Enter the element:\")\n",
    "print(\"The occurences of an element:\",l9.count(word))"
   ]
  },
  {
   "cell_type": "markdown",
   "id": "190179cd-4577-4739-b00f-2bfab3574746",
   "metadata": {},
   "source": [
    "10. Reverse the order of elements in a list."
   ]
  },
  {
   "cell_type": "code",
   "execution_count": 32,
   "id": "442aebb2-b17a-4b55-9a9d-868d3eb4b915",
   "metadata": {},
   "outputs": [
    {
     "name": "stdout",
     "output_type": "stream",
     "text": [
      "After reversing the order of elements, the list is: ['h', 'g', 'f', 'e', 'd', 'c', 'b', 'a']\n"
     ]
    }
   ],
   "source": [
    "l10=['a','b','c','d','e','f','g','h']\n",
    "l10.reverse()\n",
    "print(\"After reversing the order of elements, the list is:\",l10)"
   ]
  },
  {
   "cell_type": "markdown",
   "id": "60addc4c-5b51-4acc-99cf-6ca7fe831431",
   "metadata": {},
   "source": [
    "11. Sort a list in ascending order."
   ]
  },
  {
   "cell_type": "code",
   "execution_count": 35,
   "id": "60a459f4-ad3c-4fd1-b84d-bb8a9f266340",
   "metadata": {},
   "outputs": [
    {
     "data": {
      "text/plain": [
       "[1, 2, 4, 4, 5, 6, 7, 8, 9]"
      ]
     },
     "execution_count": 35,
     "metadata": {},
     "output_type": "execute_result"
    }
   ],
   "source": [
    "l11=[1,7,8,9,4,5,6,2,4]    \n",
    "l11.sort()\n",
    "print(\"The listin ascending order:\",l11)\n"
   ]
  },
  {
   "cell_type": "markdown",
   "id": "635f8010-bf41-45a8-bff7-ecc00a941e20",
   "metadata": {},
   "source": [
    "12. Sort a list in descending order."
   ]
  },
  {
   "cell_type": "code",
   "execution_count": 36,
   "id": "ca7a9424-4e3d-44d1-b419-43e3769391c2",
   "metadata": {},
   "outputs": [
    {
     "name": "stdout",
     "output_type": "stream",
     "text": [
      "The listin ascending order: [54, 24, 12, 9, 8, 7, 6, 5, 4, 4, 2, 1]\n"
     ]
    }
   ],
   "source": [
    "l12=[1,7,8,9,4,5,6,2,4,12,24,54]    \n",
    "l12.sort(reverse=True)\n",
    "print(\"The listin ascending order:\",l12)"
   ]
  },
  {
   "cell_type": "markdown",
   "id": "b16ba6fc-da31-4bea-8f54-3fc793aa05c5",
   "metadata": {},
   "source": [
    "13. Create a list of even numbers from 1 to 20."
   ]
  },
  {
   "cell_type": "code",
   "execution_count": 4,
   "id": "dacbc4ce-80fc-458b-be0f-588dfe3e2c8a",
   "metadata": {},
   "outputs": [
    {
     "name": "stdout",
     "output_type": "stream",
     "text": [
      "The list of even numbers is: [2, 4, 6, 8, 10, 12, 14, 16, 18, 20]\n"
     ]
    }
   ],
   "source": [
    "l13=[]\n",
    "for i in range(1,21):\n",
    "    if i%2==0:\n",
    "        l13.append(i)\n",
    "        \n",
    "print(\"The list of even numbers is:\",l13)"
   ]
  },
  {
   "cell_type": "markdown",
   "id": "f3913c68-d629-47ba-b4ee-069d07e30fa8",
   "metadata": {},
   "source": [
    "14. Create a list of odd numbers from 1 to 20."
   ]
  },
  {
   "cell_type": "code",
   "execution_count": 7,
   "id": "7ce1e644-cb67-4967-9d6c-0c2fc04d63f2",
   "metadata": {},
   "outputs": [
    {
     "name": "stdout",
     "output_type": "stream",
     "text": [
      "The list of odd numbers is: [1, 3, 5, 7, 9, 11, 13, 15, 17, 19]\n"
     ]
    }
   ],
   "source": [
    "l14=[]\n",
    "for i in range(1,20):\n",
    "    if i%2!=0:\n",
    "        l14.append(i)\n",
    "        \n",
    "print(\"The list of odd numbers is:\",l14)"
   ]
  },
  {
   "cell_type": "markdown",
   "id": "8dbf2e85-2e9f-4af4-9560-5ba5954d21da",
   "metadata": {},
   "source": [
    "15.  Find the sum of all elements in a list."
   ]
  },
  {
   "cell_type": "code",
   "execution_count": 25,
   "id": "2d39ab72-8587-4c44-b5c8-4afd021350a7",
   "metadata": {},
   "outputs": [
    {
     "name": "stdout",
     "output_type": "stream",
     "text": [
      "The sum of the list is: 55\n"
     ]
    }
   ],
   "source": [
    "l15=[1,2,3,4,5,6,7,8,9,10]\n",
    "sum15=0\n",
    "for i in l15:\n",
    "    sum15+=i\n",
    "print(\"The sum of the list is:\",sum15)"
   ]
  },
  {
   "cell_type": "markdown",
   "id": "f0275028-4359-4b38-93af-240c2cf557db",
   "metadata": {},
   "source": [
    "16. Find the maximum value in a list."
   ]
  },
  {
   "cell_type": "code",
   "execution_count": 28,
   "id": "730a7ef3-91a1-4d05-bad1-dc5faf9c3703",
   "metadata": {},
   "outputs": [
    {
     "name": "stdout",
     "output_type": "stream",
     "text": [
      "The maximum value of the list is: 100\n"
     ]
    }
   ],
   "source": [
    "l16=[100,22,3,4,5,6,7,8,9,10]\n",
    "max_l16=max(l16)\n",
    "print(\"The maximum value of the list is:\",max_l16)"
   ]
  },
  {
   "cell_type": "markdown",
   "id": "73718ad4-137f-4075-88bb-f59c7a453554",
   "metadata": {},
   "source": [
    "17. Find the minimum value in a list."
   ]
  },
  {
   "cell_type": "code",
   "execution_count": 30,
   "id": "2cd2cdc9-ce4f-4296-ac5e-1f7a409465e9",
   "metadata": {},
   "outputs": [
    {
     "name": "stdout",
     "output_type": "stream",
     "text": [
      "The minimum value of the list is: 9\n"
     ]
    }
   ],
   "source": [
    "l17=[100,22,32,17,48,9,10]\n",
    "min_l17=min(l17)\n",
    "print(\"The minimum value of the list is:\",min_l17)"
   ]
  },
  {
   "cell_type": "markdown",
   "id": "86ffa9a2-d441-45df-8ca4-b6cdfa6a603f",
   "metadata": {},
   "source": [
    "18. Create a list of squares of numbers from 1 to 10."
   ]
  },
  {
   "cell_type": "code",
   "execution_count": 34,
   "id": "aaf30996-c8b5-4449-ab34-33a90ee94540",
   "metadata": {},
   "outputs": [
    {
     "name": "stdout",
     "output_type": "stream",
     "text": [
      "List of squares is: [1, 4, 9, 16, 25, 36, 49, 64, 81, 100]\n"
     ]
    }
   ],
   "source": [
    "l18=[]\n",
    "for i in range(1,11):\n",
    "    l18.append(i**2)\n",
    "        \n",
    "print(\"List of squares is:\",l18)"
   ]
  },
  {
   "cell_type": "markdown",
   "id": "ef61d050-bbe7-43ff-a2f4-21fec60ffca0",
   "metadata": {},
   "source": [
    "19. Create a list of random numbers."
   ]
  },
  {
   "cell_type": "code",
   "execution_count": 37,
   "id": "8de09373-b245-4651-82d8-b674a7436b2f",
   "metadata": {},
   "outputs": [
    {
     "name": "stdout",
     "output_type": "stream",
     "text": [
      "The list of random numbers: [71, 97, 56, 32, 50, 10, 4, 42, 8, 15]\n"
     ]
    }
   ],
   "source": [
    "import random\n",
    "l19=[]\n",
    "for i in range(10):\n",
    "    l19.append(random.randint(1,100))\n",
    "    \n",
    "print(\"The list of random numbers:\",l19)"
   ]
  },
  {
   "cell_type": "markdown",
   "id": "b6388fa0-86e1-4684-81a9-1ba9e035d9f1",
   "metadata": {},
   "source": [
    "20. Remove duplicates from a list."
   ]
  },
  {
   "cell_type": "code",
   "execution_count": 38,
   "id": "872d29d7-3d45-4db9-af01-59984929f4a5",
   "metadata": {},
   "outputs": [
    {
     "name": "stdout",
     "output_type": "stream",
     "text": [
      "After removing duplicates the list is: [1, 2, 4, 7, 8, 47, 17, 81, 21, 63]\n"
     ]
    }
   ],
   "source": [
    "l20=[1,2,4,1,21,4,2,1,2,1,21,2,1,2,17,8,4,4,63,7,81,47]\n",
    "remove_l20=list(set(l20))\n",
    "print(\"After removing duplicates the list is:\",remove_l20)"
   ]
  },
  {
   "cell_type": "markdown",
   "id": "fd01fa86-c0bd-46e7-8b73-57a4faa9dc75",
   "metadata": {},
   "source": [
    "21. Find the common elements between two lists."
   ]
  },
  {
   "cell_type": "code",
   "execution_count": 43,
   "id": "6309ca8d-2b94-4a5b-a1db-2ad77ac0016c",
   "metadata": {},
   "outputs": [
    {
     "name": "stdout",
     "output_type": "stream",
     "text": [
      "The common elements between two lists: [1, 2, 4]\n"
     ]
    }
   ],
   "source": [
    "l20a=[1,2,3,4,5]\n",
    "l20b=[1,2,4,6]\n",
    "l20c=[]\n",
    "for i in l20a:\n",
    "    for j in l20b:\n",
    "        if i==j:\n",
    "            l20c.append(i)\n",
    "\n",
    "print(\"The common elements between two lists:\",l20c)"
   ]
  },
  {
   "cell_type": "markdown",
   "id": "bdd1813c-fe37-4e67-b5cb-4566702fffe0",
   "metadata": {},
   "source": [
    "22. Find the difference between two lists."
   ]
  },
  {
   "cell_type": "code",
   "execution_count": 46,
   "id": "d0062a9d-5c5f-4a2e-be02-d543fb1cd2cb",
   "metadata": {},
   "outputs": [
    {
     "name": "stdout",
     "output_type": "stream",
     "text": [
      "The difference between two lists: [1, 2]\n"
     ]
    }
   ],
   "source": [
    "l22a=[1,2,3,4,5]\n",
    "l22b=[3,4,5,6,7]\n",
    "diff=list(set(l22a).difference(l22b))\n",
    "print(\"The difference between two lists:\",diff)"
   ]
  },
  {
   "cell_type": "markdown",
   "id": "e4be4e23-4a59-4cdf-a5b6-41c0646a9276",
   "metadata": {},
   "source": [
    "23. Merge two lists."
   ]
  },
  {
   "cell_type": "code",
   "execution_count": 47,
   "id": "601417c2-5a9a-450a-b264-0c8e26a201f1",
   "metadata": {},
   "outputs": [
    {
     "name": "stdout",
     "output_type": "stream",
     "text": [
      "The merged list is: [1, 2, 3, 4, 5, 3, 4, 5, 6, 7]\n"
     ]
    }
   ],
   "source": [
    "l23a=[1,2,3,4,5]\n",
    "l23b=[3,4,5,6,7]\n",
    "print(\"The merged list is:\",l23a+l23b)"
   ]
  },
  {
   "cell_type": "markdown",
   "id": "744f4976-bd44-40c2-8bce-82b79e3c467a",
   "metadata": {},
   "source": [
    "24. Multiply all elements in a list by 2."
   ]
  },
  {
   "cell_type": "code",
   "execution_count": 52,
   "id": "ef2c9745-61b7-40e6-bab7-8ef4c399c5b9",
   "metadata": {},
   "outputs": [
    {
     "name": "stdout",
     "output_type": "stream",
     "text": [
      "The multiplied list is: [22, 24, 26, 28, 30]\n"
     ]
    }
   ],
   "source": [
    "l24=[11,12,13,14,15]\n",
    "l24_mul=[]\n",
    "for i in l24:\n",
    "    l24_mul.append(2*i)\n",
    "print(\"The multiplied list is:\",l24_mul)"
   ]
  },
  {
   "cell_type": "markdown",
   "id": "267740c0-2aae-49ef-8242-27f4ea5cf710",
   "metadata": {},
   "source": [
    "25. Filter out all even numbers from a list."
   ]
  },
  {
   "cell_type": "code",
   "execution_count": 64,
   "id": "264d72c3-0477-4208-ba28-17275cf294e9",
   "metadata": {},
   "outputs": [
    {
     "name": "stdout",
     "output_type": "stream",
     "text": [
      "All even numbers from a list: [2, 14, 84, 64]\n"
     ]
    }
   ],
   "source": [
    "l25=[2,14,47,51,84,35,64]\n",
    "l25_even=[]\n",
    "for i in l25:\n",
    "    if i%2==0:\n",
    "        l25_even.append(i)\n",
    "        \n",
    "print(\"All even numbers from a list:\",l25_even)"
   ]
  },
  {
   "cell_type": "code",
   "execution_count": 63,
   "id": "ae7a105c-104c-4e09-bb60-6d8835cd1c15",
   "metadata": {},
   "outputs": [
    {
     "name": "stdout",
     "output_type": "stream",
     "text": [
      "All even numbers from a list: [2, 14, 84, 64]\n"
     ]
    }
   ],
   "source": [
    "l25=[2,14,47,51,84,35,64]\n",
    "even_l25=[x for x in l25 if x%2==0]\n",
    "print(\"All even numbers from a list:\",even_l25)"
   ]
  },
  {
   "cell_type": "markdown",
   "id": "5ac6a1ac-c6b4-46b6-b7b8-574a0cbe3f4f",
   "metadata": {},
   "source": [
    "26. Convert a list of strings to a list of integers."
   ]
  },
  {
   "cell_type": "code",
   "execution_count": 65,
   "id": "3f60e1de-32f9-4b82-9ff3-7280aa7e14b5",
   "metadata": {},
   "outputs": [
    {
     "name": "stdout",
     "output_type": "stream",
     "text": [
      "The converted list of integers is: [1, 2, 3, 4]\n"
     ]
    }
   ],
   "source": [
    "l26=['1','2','3','4']\n",
    "l26_int=[int(i) for i in l26]\n",
    "print(\"The converted list of integers is:\",l26_int)"
   ]
  },
  {
   "cell_type": "markdown",
   "id": "1b172014-3c9f-4d43-8c27-9164876f7469",
   "metadata": {},
   "source": [
    "27. Convert a list of integers to a list of strings."
   ]
  },
  {
   "cell_type": "code",
   "execution_count": 66,
   "id": "3eb0c73c-d264-4d45-9de4-efeed58b7677",
   "metadata": {},
   "outputs": [
    {
     "name": "stdout",
     "output_type": "stream",
     "text": [
      "The list of strings is: ['11', '12', '13', '14', '15']\n"
     ]
    }
   ],
   "source": [
    "l27=[11,12,13,14,15]\n",
    "l27_str=[str(i) for i in l27]\n",
    "print(\"The list of strings is:\",l27_str)"
   ]
  },
  {
   "cell_type": "markdown",
   "id": "8a2a1c00-5fe2-49a8-adf4-7704e734a77c",
   "metadata": {},
   "source": [
    "28. Flatten a nested list."
   ]
  },
  {
   "cell_type": "code",
   "execution_count": 68,
   "id": "45d721db-6a38-4b61-a878-3e051db968c9",
   "metadata": {},
   "outputs": [
    {
     "name": "stdout",
     "output_type": "stream",
     "text": [
      "The flattened list is: [1, 2, 9, 3, 4, 8, 5, 5, 8]\n"
     ]
    }
   ],
   "source": [
    "l28=[[1,2],[9],[3,4,8],[5,5,8]]\n",
    "l28_flatten=[i for sublist in l28 for i in sublist]\n",
    "print(\"The flattened list is:\",l28_flatten)"
   ]
  },
  {
   "cell_type": "markdown",
   "id": "9cee0a6b-57a9-4ccd-93b6-f3952d215fc0",
   "metadata": {},
   "source": [
    "29. Create a list of the first 10 Fibonacci numbers."
   ]
  },
  {
   "cell_type": "code",
   "execution_count": 75,
   "id": "f399eefe-e7e4-4484-a995-f56b9c4d852c",
   "metadata": {},
   "outputs": [
    {
     "name": "stdout",
     "output_type": "stream",
     "text": [
      "The first 10 Fibonacci numbers are: [0, 1, 1, 2, 3, 5, 8, 13, 21, 34]\n"
     ]
    }
   ],
   "source": [
    "l29=[0,1]\n",
    "for i in range(2,10):\n",
    "    l29.append(l29[i-1]+l29[i-2])\n",
    "    \n",
    "print(\"The first 10 Fibonacci numbers are:\",l29)"
   ]
  },
  {
   "cell_type": "markdown",
   "id": "33dbfc5b-2698-462a-b5e3-ecfae8c7d20c",
   "metadata": {},
   "source": [
    "30. Check if a list is sorted."
   ]
  },
  {
   "cell_type": "code",
   "execution_count": 2,
   "id": "2bf8bc6a-88dd-4a27-bd7e-4b32b0f7d930",
   "metadata": {},
   "outputs": [
    {
     "name": "stdout",
     "output_type": "stream",
     "text": [
      "The list isn't sorted\n"
     ]
    }
   ],
   "source": [
    "l30=[2,1,5,8,6,4]\n",
    "l30c=l30[:]\n",
    "l30.sort()\n",
    "if l30c==l30:\n",
    "    print(\"The list is sorted\")\n",
    "else:\n",
    "    print(\"The list isn't sorted\")"
   ]
  },
  {
   "cell_type": "markdown",
   "id": "0a4f799f-b0d7-43e0-bb7a-cf0d70acc663",
   "metadata": {},
   "source": [
    "31. Rotate a list to the left by `n` positions."
   ]
  },
  {
   "cell_type": "code",
   "execution_count": 1,
   "id": "528c5610-fe2f-499b-824d-c9fd222872d8",
   "metadata": {},
   "outputs": [
    {
     "name": "stdin",
     "output_type": "stream",
     "text": [
      "Enter the 'n': 2\n"
     ]
    },
    {
     "name": "stdout",
     "output_type": "stream",
     "text": [
      "The rotated list is: [3, 4, 5, 6, 1, 2]\n"
     ]
    }
   ],
   "source": [
    "l31=[1,2,3,4,5,6]\n",
    "n=int(input(\"Enter the 'n':\"))\n",
    "if n>len(l31):\n",
    "    n=n%len(l31)\n",
    "rotate_left=l31[n:]+l31[:n]\n",
    "print(\"The rotated list is:\",rotate_left)\n",
    "      "
   ]
  },
  {
   "cell_type": "markdown",
   "id": "55914d39-bce6-44fd-bc28-e8f4fb59037b",
   "metadata": {},
   "source": [
    "32. Rotate a list to the right by n positions."
   ]
  },
  {
   "cell_type": "code",
   "execution_count": 3,
   "id": "8479a0b6-56f1-41b1-a905-62323aabb658",
   "metadata": {},
   "outputs": [
    {
     "name": "stdin",
     "output_type": "stream",
     "text": [
      "Enter the 'n': 2\n"
     ]
    },
    {
     "name": "stdout",
     "output_type": "stream",
     "text": [
      "The rotated list is: [5, 6, 1, 2, 3, 4]\n"
     ]
    }
   ],
   "source": [
    "l31=[1,2,3,4,5,6]\n",
    "n=int(input(\"Enter the 'n':\"))\n",
    "if n>len(l31):\n",
    "    n=n%len(l31)\n",
    "rotate_right=l31[-n:]+l31[:-n]\n",
    "print(\"The rotated list is:\",rotate_right)\n",
    "      "
   ]
  },
  {
   "cell_type": "markdown",
   "id": "e397a9f6-6506-46f1-925a-6ddf2f0be7f5",
   "metadata": {},
   "source": [
    "33. Create a list of prime numbers up to 50."
   ]
  },
  {
   "cell_type": "code",
   "execution_count": 51,
   "id": "d1c32150-3ace-4cde-83d7-5a73c5f4fdde",
   "metadata": {},
   "outputs": [
    {
     "name": "stdin",
     "output_type": "stream",
     "text": [
      "Enter the n: 50\n"
     ]
    },
    {
     "name": "stdout",
     "output_type": "stream",
     "text": [
      "The list of prime numbers are: [2, 3, 5, 7, 11, 13, 17, 19, 23, 29, 31, 37, 41, 43, 47]\n"
     ]
    }
   ],
   "source": [
    "def prime(n):\n",
    "    n=int(input(\"Enter the n:\"))\n",
    "    l33 = []\n",
    "    for i in range(n):\n",
    "        if i == 0 or i == 1:\n",
    "            continue\n",
    "        else:\n",
    "            for j in range(2, int(i/2)+1):\n",
    "                if i % j == 0:\n",
    "                    break\n",
    "            else:\n",
    "                l33.append(i)\n",
    "    print(\"The list of prime numbers are:\", l33)\n",
    "prime(n)"
   ]
  },
  {
   "cell_type": "markdown",
   "id": "2bf8c144-6a74-4b62-a25a-66d0152a80e2",
   "metadata": {},
   "source": [
    "34. Split a list into chunks of size `n`."
   ]
  },
  {
   "cell_type": "code",
   "execution_count": 65,
   "id": "a042bd41-96fa-46d0-a735-fb526cf71f34",
   "metadata": {},
   "outputs": [
    {
     "name": "stdin",
     "output_type": "stream",
     "text": [
      "Enet the size 'n': 2\n"
     ]
    },
    {
     "data": {
      "text/plain": [
       "[[1, 8], [6, 2], [4, 7], [9, 3], [2, 4]]"
      ]
     },
     "execution_count": 65,
     "metadata": {},
     "output_type": "execute_result"
    }
   ],
   "source": [
    "l34=[1,8,6,2,4,7,9,3,2,4]\n",
    "l34_new=[]\n",
    "n=int(input(\"Enet the size 'n':\"))\n",
    "for i in range(0,len(l34),n):\n",
    "    l34_new.append(l34[i:i+n])\n",
    "l34_new"
   ]
  },
  {
   "cell_type": "markdown",
   "id": "3e9e4e60-7067-491c-ab17-f44dc233fa6c",
   "metadata": {},
   "source": [
    "35. Find the second largest number in a list."
   ]
  },
  {
   "cell_type": "code",
   "execution_count": 4,
   "id": "0b2860b5-ce8b-4d7d-ae56-0d0667ae52ac",
   "metadata": {},
   "outputs": [
    {
     "name": "stdout",
     "output_type": "stream",
     "text": [
      "Second largest number is: 84\n"
     ]
    }
   ],
   "source": [
    "l35=[12,25,34,84,65,51,95]\n",
    "l35_sort=sorted(set(l35))\n",
    "if len(l35_sort)>=2:\n",
    "    sec_large=l35_sort[-2]\n",
    "    print('Second largest number is:',sec_large)\n",
    "else:\n",
    "    print(\"The list deosn't contain enough elements\")"
   ]
  },
  {
   "cell_type": "markdown",
   "id": "b340d580-5482-43b0-9816-62f74cc6d2b3",
   "metadata": {},
   "source": [
    "36. Replace every element in a list with its square."
   ]
  },
  {
   "cell_type": "code",
   "execution_count": 8,
   "id": "54a12ff9-b9c1-46f9-875f-cb8232c4ab76",
   "metadata": {},
   "outputs": [
    {
     "name": "stdout",
     "output_type": "stream",
     "text": [
      "The squared list is: [1, 4, 9, 16, 25, 36]\n"
     ]
    }
   ],
   "source": [
    "l36=[1,2,3,4,5,6]\n",
    "l36s=[]\n",
    "for i in l36:\n",
    "    l36s.append(i*i)\n",
    "print(\"The squared list is:\",l36s)"
   ]
  },
  {
   "cell_type": "markdown",
   "id": "887d4a98-b707-4ff8-b072-4f2921fed50d",
   "metadata": {},
   "source": [
    "37. Convert a list to a dictionary where list elements become keys and their indices become values."
   ]
  },
  {
   "cell_type": "code",
   "execution_count": 82,
   "id": "8c445f3a-6eec-4922-a3f5-49bd7418afe6",
   "metadata": {},
   "outputs": [
    {
     "name": "stdout",
     "output_type": "stream",
     "text": [
      "Te dictionary is: {'apple': 0, 'banana': 1, 'milk': 2, 'grapes': 3, 'cheese': 4}\n"
     ]
    }
   ],
   "source": [
    "l37=[\"apple\",\"banana\",\"milk\",\"grapes\",\"cheese\"]\n",
    "l37d = {el: i for i, el in enumerate(l37)}\n",
    "print(\"Te dictionary is:\",l37d)"
   ]
  },
  {
   "cell_type": "markdown",
   "id": "822793be-2019-4c2b-a2b2-36e7f4e64633",
   "metadata": {},
   "source": [
    "38. Shuffle the elements of a list randomly."
   ]
  },
  {
   "cell_type": "code",
   "execution_count": 11,
   "id": "7accbf4c-4cc2-4af1-8706-312cc01b1c0e",
   "metadata": {},
   "outputs": [
    {
     "name": "stdout",
     "output_type": "stream",
     "text": [
      "The list is: [24, 45, 12, 35, 78, 35, 62, 26]\n"
     ]
    }
   ],
   "source": [
    "import random\n",
    "l38=[12,35,24,78,45,35,62,26]\n",
    "random.shuffle(l38)\n",
    "print(\"The list is:\",l38)"
   ]
  },
  {
   "cell_type": "markdown",
   "id": "a6725e01-dc78-483f-b4f0-d7d164b140d4",
   "metadata": {},
   "source": [
    "39. Create a list of the first 10 factorial numbers."
   ]
  },
  {
   "cell_type": "code",
   "execution_count": 12,
   "id": "8f824e00-8047-49fd-8857-aa45b331d197",
   "metadata": {},
   "outputs": [
    {
     "name": "stdout",
     "output_type": "stream",
     "text": [
      "List of 10 factorial numbers: [1, 1, 2, 6, 24, 120, 720, 5040, 40320, 362880]\n"
     ]
    }
   ],
   "source": [
    "def fact(n):\n",
    "    if n==0 or n==1:\n",
    "        return 1\n",
    "    else:\n",
    "        return n*fact(n-1)\n",
    "    \n",
    "fact_no=[fact(i) for i in range(10)]\n",
    "\n",
    "print(\"List of 10 factorial numbers:\",fact_no)"
   ]
  },
  {
   "cell_type": "markdown",
   "id": "f7b924c0-3296-4813-baef-c01a675dd6a5",
   "metadata": {},
   "source": [
    "40. Check if two lists have at least one element in common"
   ]
  },
  {
   "cell_type": "code",
   "execution_count": 19,
   "id": "549dfb1d-a7a9-4e0b-ac01-d163de0a9cd0",
   "metadata": {},
   "outputs": [
    {
     "name": "stdout",
     "output_type": "stream",
     "text": [
      "The lists have atleast one common element\n"
     ]
    }
   ],
   "source": [
    "l40a = [1,2,4,5,6]\n",
    "l40b = [1,4,6,5,8]\n",
    "def check_list(l40a,l40b):\n",
    "    for i in l40a:\n",
    "        for j in l40b:\n",
    "            if i == j :\n",
    "                return True\n",
    "        return False\n",
    "    \n",
    "if check_list(l40a,l40b):\n",
    "    print(\"The lists have atleast one common element\")\n",
    "else:\n",
    "    print(\"The lists doesn't have a common element\")"
   ]
  },
  {
   "cell_type": "markdown",
   "id": "ef9cd937-0b52-4fbb-925a-afecaf1f7833",
   "metadata": {},
   "source": [
    "41. Remove all elements from a list."
   ]
  },
  {
   "cell_type": "code",
   "execution_count": 22,
   "id": "9649b916-c7fe-4fd7-a272-87d99cef1efe",
   "metadata": {},
   "outputs": [
    {
     "name": "stdout",
     "output_type": "stream",
     "text": [
      "The list is: []\n"
     ]
    }
   ],
   "source": [
    "l41=[2,4,5,8,6,3]\n",
    "l41.clear()\n",
    "print(\"The list is:\",l41)"
   ]
  },
  {
   "cell_type": "markdown",
   "id": "39da5429-6233-460b-abe8-64acf0b36cd6",
   "metadata": {},
   "source": [
    "42. Replace negative numbers in a list with 0."
   ]
  },
  {
   "cell_type": "code",
   "execution_count": 31,
   "id": "158c5e30-9087-474d-8712-da4b6675a7f8",
   "metadata": {},
   "outputs": [
    {
     "name": "stdout",
     "output_type": "stream",
     "text": [
      "The list after replacing negative numbers is: [0, 0, 0, 22, 18, 0]\n"
     ]
    }
   ],
   "source": [
    "l42=[0,-14,-8,22,18,-65]\n",
    "for i in range(len(l42)):\n",
    "    if l42[i] < 0:\n",
    "        l42[i]=0\n",
    "        \n",
    "print(\"The list after replacing negative numbers is:\",l42)"
   ]
  },
  {
   "cell_type": "markdown",
   "id": "0ef3a246-3885-4a41-b7fd-734debea9d90",
   "metadata": {},
   "source": [
    "43. Convert a string into a list of words."
   ]
  },
  {
   "cell_type": "code",
   "execution_count": 86,
   "id": "05893013-2e86-4a37-8c55-81ca13e923ce",
   "metadata": {},
   "outputs": [
    {
     "name": "stdin",
     "output_type": "stream",
     "text": [
      "Enter a list of words: hey have a nice day\n"
     ]
    },
    {
     "name": "stdout",
     "output_type": "stream",
     "text": [
      "List of words are: ['hey', 'have', 'a', 'nice', 'day']\n"
     ]
    }
   ],
   "source": [
    "str43=input(\"Enter a list of words:\")\n",
    "l43=str43.split()\n",
    "print(\"List of words are:\",l43)"
   ]
  },
  {
   "cell_type": "markdown",
   "id": "76f78368-80a7-470a-b997-530e068b2402",
   "metadata": {},
   "source": [
    "44. Convert a list of words into a string."
   ]
  },
  {
   "cell_type": "code",
   "execution_count": 89,
   "id": "41dbd0e4-0e83-4404-8456-4631ee2adf21",
   "metadata": {},
   "outputs": [
    {
     "name": "stdout",
     "output_type": "stream",
     "text": [
      "The string is: hey good morning\n"
     ]
    }
   ],
   "source": [
    "l44=['hey','good','morning']\n",
    "l44_str=\" \".join(l43)\n",
    "print(\"The string is:\",l44_str)"
   ]
  },
  {
   "cell_type": "markdown",
   "id": "27bc12ef-59fd-44f7-be41-c486c0670117",
   "metadata": {},
   "source": [
    "45. Create a list of the first `n` powers of 2."
   ]
  },
  {
   "cell_type": "code",
   "execution_count": 98,
   "id": "6be093ec-103d-45ec-8cce-361f15054868",
   "metadata": {},
   "outputs": [
    {
     "name": "stdin",
     "output_type": "stream",
     "text": [
      "Enter the 'n': 4\n"
     ]
    },
    {
     "name": "stdout",
     "output_type": "stream",
     "text": [
      "The first 4 powers of 2 is: [1, 2, 4, 8]\n"
     ]
    }
   ],
   "source": [
    "l45=[]\n",
    "n=int(input(\"Enter the 'n':\"))\n",
    "for i in range(n):\n",
    "    l45.append(2**i)\n",
    "    \n",
    "print(f'The first', n , 'powers of 2 is:',l45 )"
   ]
  },
  {
   "cell_type": "markdown",
   "id": "4f51f72f-d2c8-4912-8070-7842ab02de5a",
   "metadata": {},
   "source": [
    "46. Find the longest string in a list of strings"
   ]
  },
  {
   "cell_type": "code",
   "execution_count": 108,
   "id": "e1d5dbf4-62d6-4e1f-b259-6d9a2671c0fd",
   "metadata": {},
   "outputs": [
    {
     "name": "stdout",
     "output_type": "stream",
     "text": [
      "The longest string is: morning\n"
     ]
    }
   ],
   "source": [
    "l46=['hey','have','a','nice','morning']\n",
    "long=\"\"\n",
    "for i in l46:\n",
    "    if len(long)<len(i):\n",
    "        long=i        \n",
    "print(\"The longest string is:\",long)"
   ]
  },
  {
   "cell_type": "markdown",
   "id": "4f4b90b3-c423-473c-941c-46ec3b7309a9",
   "metadata": {},
   "source": [
    "47. Find the shortest string in a list of strings."
   ]
  },
  {
   "cell_type": "code",
   "execution_count": 113,
   "id": "c4d71167-9b23-4a6d-821e-8597698c0be6",
   "metadata": {},
   "outputs": [
    {
     "name": "stdout",
     "output_type": "stream",
     "text": [
      "The shortest string is: a\n"
     ]
    }
   ],
   "source": [
    "l47=['hey','have','a','nice','morning']\n",
    "short=l47[0]\n",
    "for i in l46:\n",
    "    if len(short)>len(i):\n",
    "        short=i        \n",
    "print(\"The shortest string is:\",short)"
   ]
  },
  {
   "cell_type": "markdown",
   "id": "9bb9a58b-0c41-444c-820f-2b918682cb5b",
   "metadata": {},
   "source": [
    "48. Create a list of the first `n` triangular numbers."
   ]
  },
  {
   "cell_type": "code",
   "execution_count": 115,
   "id": "a9d5aad2-cea4-44c9-84fa-1c69bf6ae75f",
   "metadata": {},
   "outputs": [
    {
     "name": "stdin",
     "output_type": "stream",
     "text": [
      "Enter the 'n': 6\n"
     ]
    },
    {
     "name": "stdout",
     "output_type": "stream",
     "text": [
      "The List of first 6 triangular numbers [1, 3, 6, 10, 15, 21]\n"
     ]
    }
   ],
   "source": [
    "n=int(input(\"Enter the 'n':\"))\n",
    "l48=[i*(i+1)//2 for i in range(1,n+1)]\n",
    "print(\"The List of first\",n,\"triangular numbers\",l48)"
   ]
  },
  {
   "cell_type": "markdown",
   "id": "c0497fc8-3f2b-487f-b903-8cf7b91b88c6",
   "metadata": {},
   "source": [
    "49. Check if a list contains another list as a subsequence."
   ]
  },
  {
   "cell_type": "code",
   "execution_count": 21,
   "id": "8852ce34-f087-4256-bbff-3bac395e53bb",
   "metadata": {},
   "outputs": [
    {
     "name": "stdout",
     "output_type": "stream",
     "text": [
      "The list doesn't contain subsequence list\n"
     ]
    }
   ],
   "source": [
    "l49=[1,4,2,3,9,8,5]\n",
    "l49_sub=[6,8]\n",
    "def check_sub(l49,l49_sub):\n",
    "    j=0\n",
    "    for i in l49:\n",
    "        if i==l49_sub[j]:\n",
    "            j+=1\n",
    "            if j== len(l49_sub):\n",
    "                return True\n",
    "    return False\n",
    "\n",
    "if check_sub(l49,l49_sub):\n",
    "    print(\"The list contains another subsequence list\")\n",
    "else:\n",
    "    print(\"The list doesn't contain subsequence list\")"
   ]
  },
  {
   "cell_type": "markdown",
   "id": "4d11165b-6d3a-4556-86c4-46c83de0349b",
   "metadata": {},
   "source": [
    "50. Swap two elements in a list by their indices."
   ]
  },
  {
   "cell_type": "code",
   "execution_count": 1,
   "id": "3dfe8229-35ef-4a37-8e4d-6be7c5bf1fd2",
   "metadata": {},
   "outputs": [
    {
     "name": "stdin",
     "output_type": "stream",
     "text": [
      "Enter the 1st indices: 0\n",
      "Enter the 2nd indices: 1\n"
     ]
    },
    {
     "name": "stdout",
     "output_type": "stream",
     "text": [
      "After swapping,list is: [5, 6, 8, 9, 10, 2, 1]\n"
     ]
    }
   ],
   "source": [
    "l50=[6,5,8,9,10,2,1]\n",
    "i,j=int(input(\"Enter the 1st indices:\")),int(input(\"Enter the 2nd indices:\"))\n",
    "\n",
    "l50[i],l50[j]=l50[j],l50[i]\n",
    "print(\"After swapping,list is:\",l50)"
   ]
  },
  {
   "cell_type": "markdown",
   "id": "242e79a8-4c67-41fd-990a-8d8b6593ab4b",
   "metadata": {},
   "source": [
    "### Tuple Based Practice Problem :"
   ]
  },
  {
   "cell_type": "markdown",
   "id": "ca5ce1f6-7b41-4752-8f76-253faff01d04",
   "metadata": {},
   "source": [
    "1. Create a tuple with integers from 1 to 5."
   ]
  },
  {
   "cell_type": "code",
   "execution_count": 5,
   "id": "c4383313-389c-4883-8f65-34d2cb45fda0",
   "metadata": {},
   "outputs": [
    {
     "name": "stdout",
     "output_type": "stream",
     "text": [
      "The tuple is: (1, 2, 3, 4, 5)\n"
     ]
    }
   ],
   "source": [
    "ls1=[]\n",
    "for i in range(1,6):\n",
    "    ls1.append(i)\n",
    "print(\"The tuple is:\",tuple(ls1))"
   ]
  },
  {
   "cell_type": "markdown",
   "id": "59963431-d806-4fb0-98d9-526b5bdabdf7",
   "metadata": {},
   "source": [
    "2. Access the third element of a tuple."
   ]
  },
  {
   "cell_type": "code",
   "execution_count": 6,
   "id": "d16a6aa6-0b2d-469d-baea-9b98d28d9ebf",
   "metadata": {},
   "outputs": [
    {
     "name": "stdout",
     "output_type": "stream",
     "text": [
      "The third element of a tuple is 4\n"
     ]
    }
   ],
   "source": [
    "t2=[6,5,4,3,2,1]\n",
    "print(\"The third element of a tuple is\",t2[2])"
   ]
  },
  {
   "cell_type": "markdown",
   "id": "d83992d9-2729-4707-b3d6-e5682e3a582a",
   "metadata": {},
   "source": [
    "3. Find the length of a tuple without using the `len()` function."
   ]
  },
  {
   "cell_type": "code",
   "execution_count": 2,
   "id": "0862afb6-3efa-461c-be93-9c17019a7066",
   "metadata": {},
   "outputs": [
    {
     "name": "stdout",
     "output_type": "stream",
     "text": [
      "The length of the tuple is: 6\n"
     ]
    }
   ],
   "source": [
    "t3=(1,2,3,4,5,6)\n",
    "len3=0\n",
    "for i in t3:\n",
    "    len3+=1\n",
    "    \n",
    "print(\"The length of the tuple is:\",len3)"
   ]
  },
  {
   "cell_type": "markdown",
   "id": "78677b42-742e-4e90-9d0b-16bc31ecc792",
   "metadata": {},
   "source": [
    "4. Count the occurrences of an element in a tuple."
   ]
  },
  {
   "cell_type": "code",
   "execution_count": 20,
   "id": "1e210cbb-96ed-4cc4-8cc5-63b01449bb4d",
   "metadata": {},
   "outputs": [
    {
     "name": "stdin",
     "output_type": "stream",
     "text": [
      "Enter the element 5\n"
     ]
    },
    {
     "name": "stdout",
     "output_type": "stream",
     "text": [
      "The element 5 occurs 2 times in the tuple\n"
     ]
    }
   ],
   "source": [
    "t4=(2,1,4,1,1,2,4,5,3,2,1,4,5)\n",
    "i=int(input(\"Enter the element\"))\n",
    "count=t4.count(i)\n",
    "print(f'The element {i} occurs {count} times in the tuple')"
   ]
  },
  {
   "cell_type": "markdown",
   "id": "a213c972-e73e-49f4-944d-209c4b72432a",
   "metadata": {},
   "source": [
    "5. Find the index of the first occurrence of an element in a tuple."
   ]
  },
  {
   "cell_type": "code",
   "execution_count": 13,
   "id": "dfd873bc-5863-4a15-aa67-dea6eb1b7ed7",
   "metadata": {},
   "outputs": [
    {
     "name": "stdin",
     "output_type": "stream",
     "text": [
      "Enter the element 2\n"
     ]
    },
    {
     "name": "stdout",
     "output_type": "stream",
     "text": [
      "The index of the first occurrence of  2 is 1\n"
     ]
    }
   ],
   "source": [
    "t5=(1,2,3,4,5,6)\n",
    "i=int(input(\"Enter the element\"))\n",
    "print(\"The index of the first occurrence of \",i,\"is\",t5.index(i))\n"
   ]
  },
  {
   "cell_type": "markdown",
   "id": "98f658a5-bef4-40bb-bee3-4f81aa836946",
   "metadata": {},
   "source": [
    " 6. Check if an element exists in a tuple."
   ]
  },
  {
   "cell_type": "code",
   "execution_count": 16,
   "id": "f8de04ae-835c-42c6-8772-fa7eb1342621",
   "metadata": {},
   "outputs": [
    {
     "name": "stdin",
     "output_type": "stream",
     "text": [
      "Enter the element 10\n"
     ]
    },
    {
     "name": "stdout",
     "output_type": "stream",
     "text": [
      "The element 10 doesn't exist in the tuple\n"
     ]
    }
   ],
   "source": [
    "t6=(1,2,3,4,5,6)\n",
    "i=int(input(\"Enter the element\"))\n",
    "if i in t6:\n",
    "    print(\"The element\",i,\"exists in the tuple\")\n",
    "else:\n",
    "    print(\"The element\",i,\"doesn't exist in the tuple\")"
   ]
  },
  {
   "cell_type": "markdown",
   "id": "cbb75452-f43c-4369-8f04-b70912be6c94",
   "metadata": {},
   "source": [
    "7. Convert a tuple to a list."
   ]
  },
  {
   "cell_type": "code",
   "execution_count": 17,
   "id": "7b4a1f0c-674d-4f1c-9b5a-0492ccd95e1d",
   "metadata": {},
   "outputs": [
    {
     "name": "stdout",
     "output_type": "stream",
     "text": [
      "The converted list is: ['apple', 'banana', 'grapes', 'dryfruits']\n"
     ]
    }
   ],
   "source": [
    "t7=(\"apple\",\"banana\",\"grapes\",\"dryfruits\")\n",
    "print(\"The converted list is:\",list(t7))"
   ]
  },
  {
   "cell_type": "markdown",
   "id": "e7d0501f-e759-46e3-b6f3-e1a37bc76627",
   "metadata": {},
   "source": [
    "8. Convert a list to a tuple."
   ]
  },
  {
   "cell_type": "code",
   "execution_count": 18,
   "id": "9a716bc4-c1e9-4c5a-9119-6cbc22d7d6d1",
   "metadata": {},
   "outputs": [
    {
     "name": "stdout",
     "output_type": "stream",
     "text": [
      "The converted tuple is: ('apple', 'banana', 'grapes', 'dryfruits')\n"
     ]
    }
   ],
   "source": [
    "t8=['apple', 'banana', 'grapes', 'dryfruits']\n",
    "print(\"The converted tuple is:\",tuple(t8))"
   ]
  },
  {
   "cell_type": "markdown",
   "id": "ae3af369-30b7-41ed-bef7-90fff4543869",
   "metadata": {},
   "source": [
    "9. Unpack the elements of a tuple into variables."
   ]
  },
  {
   "cell_type": "code",
   "execution_count": 26,
   "id": "12dc257c-957a-4b84-830e-b359def31c1e",
   "metadata": {},
   "outputs": [
    {
     "name": "stdout",
     "output_type": "stream",
     "text": [
      "varible 1 is: 1\n",
      "variable 2 is: 2\n",
      "variable 3 is: 3\n",
      "variable 4 is: 4\n"
     ]
    }
   ],
   "source": [
    "t9=(1,2,3,4)\n",
    "v1,v2,v3,v4=t9\n",
    "print(f'varible 1 is: {v1}')\n",
    "print(f'variable 2 is: {v2}')\n",
    "print(f'variable 3 is: {v3}')\n",
    "print(f'variable 4 is: {v4}')"
   ]
  },
  {
   "cell_type": "markdown",
   "id": "017ccf04-ce3e-40b1-9c47-bb6cf5c9b23a",
   "metadata": {},
   "source": [
    "10. Create a tuple of even numbers from 1 to 10."
   ]
  },
  {
   "cell_type": "code",
   "execution_count": 3,
   "id": "1f717610-46b5-4953-a4b6-f4c6b92e24c4",
   "metadata": {},
   "outputs": [
    {
     "name": "stdout",
     "output_type": "stream",
     "text": [
      "The even numbers from 1 to 10 is: (2, 4, 6, 8, 10)\n"
     ]
    }
   ],
   "source": [
    "t10=[]\n",
    "for i in range(1,11):\n",
    "    if i%2==0:\n",
    "        t10.append(i)\n",
    "\n",
    "print('The even numbers from 1 to 10 is:',tuple(t10))"
   ]
  },
  {
   "cell_type": "markdown",
   "id": "a7df8447-2b36-4f9e-a12a-2afa4af58f2d",
   "metadata": {},
   "source": [
    "11. Create a tuple of odd numbers from 1 to 10."
   ]
  },
  {
   "cell_type": "code",
   "execution_count": 5,
   "id": "1401b5fb-452d-49bb-81f6-bb7cd093ac89",
   "metadata": {},
   "outputs": [
    {
     "name": "stdout",
     "output_type": "stream",
     "text": [
      "The odd numbers from 1 to 10: (1, 3, 5, 7, 9)\n"
     ]
    }
   ],
   "source": [
    "t11=[]\n",
    "for i in range(1,10):\n",
    "    if i%2!=0:\n",
    "        t11.append(i)\n",
    "        \n",
    "print('The odd numbers from 1 to 10:',tuple(t11))"
   ]
  },
  {
   "cell_type": "markdown",
   "id": "83c004ab-8c8c-4889-82a1-b2691ef50f38",
   "metadata": {},
   "source": [
    "12. Concatenate two tuples."
   ]
  },
  {
   "cell_type": "code",
   "execution_count": 9,
   "id": "51e9d1b0-723d-4c0b-af4d-8fc9ad404c1d",
   "metadata": {},
   "outputs": [
    {
     "name": "stdout",
     "output_type": "stream",
     "text": [
      "The concatenated tuple is:(1, 2, 3, 4, 5)\n"
     ]
    }
   ],
   "source": [
    "t12a=(1,2,3)\n",
    "t12b=(4,5)\n",
    "print(f'The concatenated tuple is:{t12a+t12b}')"
   ]
  },
  {
   "cell_type": "markdown",
   "id": "7448f964-ac68-4b2b-8417-aa2277fbf86b",
   "metadata": {},
   "source": [
    "13. Repeat a tuple three times."
   ]
  },
  {
   "cell_type": "code",
   "execution_count": 10,
   "id": "0b8fc2e2-1d18-48e7-9316-a901bb52c9c8",
   "metadata": {},
   "outputs": [
    {
     "name": "stdout",
     "output_type": "stream",
     "text": [
      "Repeated tuple:(1, 2, 3, 4, 5, 1, 2, 3, 4, 5, 1, 2, 3, 4, 5)\n"
     ]
    }
   ],
   "source": [
    "t13=(1,2,3,4,5)\n",
    "rep_t13=t13*3\n",
    "print(f'Repeated tuple:{rep_t13}')"
   ]
  },
  {
   "cell_type": "markdown",
   "id": "d867c16b-8b13-487d-bc4a-dd066b6235fa",
   "metadata": {},
   "source": [
    "14. Check if a tuple is empty."
   ]
  },
  {
   "cell_type": "code",
   "execution_count": 14,
   "id": "fd852d61-a034-4ae2-b126-ce170dbeacdc",
   "metadata": {},
   "outputs": [
    {
     "name": "stdout",
     "output_type": "stream",
     "text": [
      "The tuple is empty\n"
     ]
    }
   ],
   "source": [
    "t14=()\n",
    "if len(t14)==0:\n",
    "    print(f'The tuple is empty')\n",
    "else:\n",
    "    print(f\"The tuple isn't empty\")"
   ]
  },
  {
   "cell_type": "markdown",
   "id": "26863311-3a13-454d-ad67-6505dae94784",
   "metadata": {},
   "source": [
    "15. Create a nested tuple."
   ]
  },
  {
   "cell_type": "code",
   "execution_count": 17,
   "id": "a70cb1d2-530e-4b95-b13a-2e7d6fd6ec47",
   "metadata": {},
   "outputs": [
    {
     "name": "stdout",
     "output_type": "stream",
     "text": [
      "Nested tuple:(1, 2, (3, 4), ('apple', 'banana'), ('a', 'b'))\n"
     ]
    }
   ],
   "source": [
    "t15=(1,2,(3,4),('apple','banana'),('a','b'))\n",
    "print(f'Nested tuple:{t15}')"
   ]
  },
  {
   "cell_type": "markdown",
   "id": "9b06bfb5-713d-4245-a414-b9b6c880b9ae",
   "metadata": {},
   "source": [
    "16. Access the first element of a nested tuple."
   ]
  },
  {
   "cell_type": "code",
   "execution_count": 20,
   "id": "4d96d9ec-ef88-4ca0-8154-cff14a5fe5ea",
   "metadata": {},
   "outputs": [
    {
     "name": "stdout",
     "output_type": "stream",
     "text": [
      "The first element of a nested tuple is:(1, 2)\n"
     ]
    }
   ],
   "source": [
    "t16=((1,2),(3,4),('apple','banana'),('a','b'))\n",
    "print(f'The first element of a nested tuple is:{t16[0]}')"
   ]
  },
  {
   "cell_type": "markdown",
   "id": "eed95731-0c0f-41fa-915f-298f0de988b0",
   "metadata": {},
   "source": [
    "17. Create a tuple with a single element."
   ]
  },
  {
   "cell_type": "code",
   "execution_count": 23,
   "id": "a87fdea3-cee4-4002-818e-ff3769d4eedb",
   "metadata": {},
   "outputs": [
    {
     "name": "stdout",
     "output_type": "stream",
     "text": [
      "single element is: 2\n"
     ]
    }
   ],
   "source": [
    "t17=(2)\n",
    "print(f'single element is: {t17}')"
   ]
  },
  {
   "cell_type": "markdown",
   "id": "db9cd60e-9e1f-42c9-9005-d83c630de5a6",
   "metadata": {},
   "source": [
    "18. Compare two tuples."
   ]
  },
  {
   "cell_type": "code",
   "execution_count": 27,
   "id": "c108e762-8b74-4d85-8d22-fd0198ebc852",
   "metadata": {},
   "outputs": [
    {
     "name": "stdout",
     "output_type": "stream",
     "text": [
      "Tuple1 == Tuple2: False\n",
      "Tuple1 != Tuple2: True\n",
      "Tuple1 < Tuple2: True\n",
      "Tuple1 > Tuple2: False\n",
      "Tuple1 <= Tuple2: True\n",
      "Tuple1 >= Tuple2: False\n"
     ]
    }
   ],
   "source": [
    "t18a=(2,4,6)\n",
    "t18b=(2,5,8)\n",
    "print(f'Tuple1 == Tuple2: {t18a==t18b}')\n",
    "print(f'Tuple1 != Tuple2: {t18a!=t18b}')\n",
    "print(f'Tuple1 < Tuple2: {t18a<t18b}')\n",
    "print(f'Tuple1 > Tuple2: {t18a>t18b}')\n",
    "print(f'Tuple1 <= Tuple2: {t18a<=t18b}')\n",
    "print(f'Tuple1 >= Tuple2: {t18a>=t18b}')"
   ]
  },
  {
   "cell_type": "markdown",
   "id": "f9b68ecb-ba6f-4190-9b24-f1143e8b2e9f",
   "metadata": {},
   "source": [
    "19. Delete a tuple."
   ]
  },
  {
   "cell_type": "code",
   "execution_count": 32,
   "id": "738014d6-1b63-43ee-b0ae-e9834a36d275",
   "metadata": {},
   "outputs": [
    {
     "ename": "NameError",
     "evalue": "name 't19' is not defined",
     "output_type": "error",
     "traceback": [
      "\u001b[0;31m---------------------------------------------------------------------------\u001b[0m",
      "\u001b[0;31mNameError\u001b[0m                                 Traceback (most recent call last)",
      "Cell \u001b[0;32mIn[32], line 3\u001b[0m\n\u001b[1;32m      1\u001b[0m t19\u001b[38;5;241m=\u001b[39m(\u001b[38;5;241m2\u001b[39m,\u001b[38;5;241m5\u001b[39m,\u001b[38;5;241m8\u001b[39m,\u001b[38;5;241m9\u001b[39m,\u001b[38;5;241m6\u001b[39m,\u001b[38;5;241m4\u001b[39m,\u001b[38;5;241m3\u001b[39m)\n\u001b[1;32m      2\u001b[0m \u001b[38;5;28;01mdel\u001b[39;00m t19\n\u001b[0;32m----> 3\u001b[0m \u001b[38;5;28mprint\u001b[39m(\u001b[43mt19\u001b[49m)\n",
      "\u001b[0;31mNameError\u001b[0m: name 't19' is not defined"
     ]
    }
   ],
   "source": [
    "t19=(2,5,8,9,6,4,3)\n",
    "del t19\n",
    "print(t19)"
   ]
  },
  {
   "cell_type": "markdown",
   "id": "279dcac3-79a8-4b53-a7d4-b28fbcde9007",
   "metadata": {},
   "source": [
    "20. Slice a tuple."
   ]
  },
  {
   "cell_type": "code",
   "execution_count": 34,
   "id": "f8d221ab-71a4-4301-af6b-87b0ef552677",
   "metadata": {},
   "outputs": [
    {
     "name": "stdout",
     "output_type": "stream",
     "text": [
      "The sliced tuple: (10, 15, 20)\n"
     ]
    }
   ],
   "source": [
    "t20=(5,10,15,20,25,30,35)\n",
    "sli_t20=t20[1:4]\n",
    "print(f'The sliced tuple: {sli_t20}')"
   ]
  },
  {
   "cell_type": "markdown",
   "id": "0748b015-fe1f-43f0-bd53-23d0985108bf",
   "metadata": {},
   "source": [
    "21. Find the maximum value in a tuple."
   ]
  },
  {
   "cell_type": "code",
   "execution_count": 36,
   "id": "7fc89aa9-588a-4ab5-bfd1-64ed404a404c",
   "metadata": {},
   "outputs": [
    {
     "name": "stdout",
     "output_type": "stream",
     "text": [
      "The maximum value is: 16\n"
     ]
    }
   ],
   "source": [
    "t21=(2,4,6,8,10,12,14,16)\n",
    "print(f'The maximum value is: {max(t21)}')"
   ]
  },
  {
   "cell_type": "markdown",
   "id": "59b0fb4c-daf4-4af3-aac0-acfa1d1c85d2",
   "metadata": {},
   "source": [
    "22. Find the minimum value in a tuple."
   ]
  },
  {
   "cell_type": "code",
   "execution_count": 2,
   "id": "e3f6b522-014a-4ccb-983f-61e47cfcb24d",
   "metadata": {},
   "outputs": [
    {
     "name": "stdout",
     "output_type": "stream",
     "text": [
      "The minimum value is: 2\n"
     ]
    }
   ],
   "source": [
    "t22=(2,4,6,8,10,12,14,16)\n",
    "print(f'The minimum value is: {min(t22)}')"
   ]
  },
  {
   "cell_type": "markdown",
   "id": "15d9eb41-ca8d-4866-851f-ee2233973647",
   "metadata": {},
   "source": [
    "23. Convert a string to a tuple of characters."
   ]
  },
  {
   "cell_type": "code",
   "execution_count": 5,
   "id": "86cc9604-8d93-433c-a0af-56f8ab06a906",
   "metadata": {},
   "outputs": [
    {
     "name": "stdin",
     "output_type": "stream",
     "text": [
      "Enter a string: hey morning\n"
     ]
    },
    {
     "name": "stdout",
     "output_type": "stream",
     "text": [
      "Tuple of characters are: ('h', 'e', 'y', ' ', 'm', 'o', 'r', 'n', 'i', 'n', 'g')\n"
     ]
    }
   ],
   "source": [
    "t_str=input(\"Enter a string:\")\n",
    "print(f'Tuple of characters are: {tuple(t_str)}')"
   ]
  },
  {
   "cell_type": "markdown",
   "id": "e8688ab9-b3a6-4432-9bde-682fbac5495d",
   "metadata": {},
   "source": [
    "24. Convert a tuple of characters to a string."
   ]
  },
  {
   "cell_type": "code",
   "execution_count": 3,
   "id": "e18cbbaf-a5ba-41cd-bb29-6e33144d1177",
   "metadata": {},
   "outputs": [
    {
     "name": "stdout",
     "output_type": "stream",
     "text": [
      "The converted string is: hey morning\n"
     ]
    }
   ],
   "source": [
    "t24=('h', 'e', 'y', ' ', 'm', 'o', 'r', 'n', 'i', 'n', 'g')\n",
    "print(f\"The converted string is: {''.join(t24)}\")"
   ]
  },
  {
   "cell_type": "markdown",
   "id": "1310bea1-83e4-412d-9e85-63fa9281fc55",
   "metadata": {},
   "source": [
    "25. Create a tuple from multiple data types."
   ]
  },
  {
   "cell_type": "code",
   "execution_count": 5,
   "id": "31cc1f33-b6d2-4358-bb57-4a9faca34b3e",
   "metadata": {},
   "outputs": [
    {
     "name": "stdout",
     "output_type": "stream",
     "text": [
      "('apple', 2, 4.12, 5, ['a', 'b'])\n"
     ]
    }
   ],
   "source": [
    "t25=('apple',2,4.12,5,['a','b'],)\n",
    "print(t25)"
   ]
  },
  {
   "cell_type": "markdown",
   "id": "54ab6130-83cd-44fb-89ac-793e4fad0e58",
   "metadata": {},
   "source": [
    "26. Check if two tuples are identical."
   ]
  },
  {
   "cell_type": "code",
   "execution_count": 7,
   "id": "9bb83ebd-6cd5-414b-ae28-6d4a4f8b63bf",
   "metadata": {},
   "outputs": [
    {
     "name": "stdout",
     "output_type": "stream",
     "text": [
      "Two tuples aren't identical\n"
     ]
    }
   ],
   "source": [
    "t26=(1,2,3,4)\n",
    "t26a=(1,2,5,7)\n",
    "if t26==t26a:\n",
    "    print(\"Two tuples are identical\")\n",
    "else:\n",
    "    print(\"Two tuples aren't identical\")"
   ]
  },
  {
   "cell_type": "markdown",
   "id": "9d0ac6f7-9a29-41e5-8cc5-96550b9e38c8",
   "metadata": {},
   "source": [
    "27. Sort the elements of a tuple.\n"
   ]
  },
  {
   "cell_type": "code",
   "execution_count": 11,
   "id": "95b4750b-e82f-4f1e-b996-4858c12d6032",
   "metadata": {},
   "outputs": [
    {
     "name": "stdout",
     "output_type": "stream",
     "text": [
      "The sorted elements are: [15, 18, 24, 25, 32, 54, 62, 84]\n"
     ]
    }
   ],
   "source": [
    "t27=(54,84,25,62,15,24,32,18)\n",
    "print(f\"The sorted elements are: {sorted(t27)}\")"
   ]
  },
  {
   "cell_type": "markdown",
   "id": "0c6022ad-6319-436a-a430-01746cb4571d",
   "metadata": {},
   "source": [
    "28. Convert a tuple of integers to a tuple of strings."
   ]
  },
  {
   "cell_type": "code",
   "execution_count": 26,
   "id": "b656d0df-21fa-4fa1-a467-ad894b678911",
   "metadata": {},
   "outputs": [
    {
     "name": "stdout",
     "output_type": "stream",
     "text": [
      "The converted tuple is: ('1', '2', '3', '4', '5')\n"
     ]
    }
   ],
   "source": [
    "t28=(1,2,3,4,5)\n",
    "t28=list(t28)\n",
    "for i in range(len(t28)):\n",
    "    t28[i]=str(t28[i])\n",
    "    \n",
    "print(f'The converted tuple is: {tuple(t28)}')"
   ]
  },
  {
   "cell_type": "markdown",
   "id": "eabeebcc-7551-49d9-b38e-fc54ffc6422f",
   "metadata": {},
   "source": [
    "29. Convert a tuple of strings to a tuple of integers."
   ]
  },
  {
   "cell_type": "code",
   "execution_count": 27,
   "id": "1d40ee36-30d2-480c-9dac-4fbfa6a3ce8f",
   "metadata": {},
   "outputs": [
    {
     "name": "stdout",
     "output_type": "stream",
     "text": [
      "The converted tuple is: (1, 2, 3, 4, 5)\n"
     ]
    }
   ],
   "source": [
    "t29=('1', '2', '3', '4', '5')\n",
    "t29=list(t29)\n",
    "for i in range(len(t29)):\n",
    "    t29[i]=int(t29[i])\n",
    "    \n",
    "print(f'The converted tuple is: {tuple(t29)}')"
   ]
  },
  {
   "cell_type": "code",
   "execution_count": 2,
   "id": "40571861-4250-4188-9320-86bd26779524",
   "metadata": {},
   "outputs": [
    {
     "name": "stdout",
     "output_type": "stream",
     "text": [
      "The converted tuple is: (1, 2, 3, 4, 5)\n"
     ]
    }
   ],
   "source": [
    "t29=('1', '2', '3', '4', '5')\n",
    "int_t29=tuple(int(i) for i in t29)\n",
    "print(f'The converted tuple is: {int_t29}')"
   ]
  },
  {
   "cell_type": "markdown",
   "id": "f7431484-7beb-401b-a2d0-ab98d584f334",
   "metadata": {},
   "source": [
    "30. Merge two tuples."
   ]
  },
  {
   "cell_type": "code",
   "execution_count": 3,
   "id": "8b3a7bfa-6530-4b75-896b-c7610cf186c0",
   "metadata": {},
   "outputs": [
    {
     "name": "stdout",
     "output_type": "stream",
     "text": [
      "The merged tuple is: ('apple', 'Banana', 'grapes', 'milk', 'curd', 'cheese')\n"
     ]
    }
   ],
   "source": [
    "t30a=(\"apple\",\"Banana\",\"grapes\")\n",
    "t30b=(\"milk\",\"curd\",\"cheese\")\n",
    "print(f'The merged tuple is: {t30a+t30b}')"
   ]
  },
  {
   "cell_type": "markdown",
   "id": "609b77ae-0f18-4a13-87bd-921bea25236d",
   "metadata": {},
   "source": [
    "31. Flatten a nested tuple."
   ]
  },
  {
   "cell_type": "code",
   "execution_count": 5,
   "id": "a76a3004-f9f0-409c-b202-3ae2092c7d88",
   "metadata": {},
   "outputs": [
    {
     "name": "stdout",
     "output_type": "stream",
     "text": [
      "Flattened tuple is: (1, 2, 3, 8, 9)\n"
     ]
    }
   ],
   "source": [
    "t31=((1,2),3,(8,9))\n",
    "t31l=[]\n",
    "for i in t31:\n",
    "    if isinstance(i,tuple):\n",
    "        t31l.extend(i)\n",
    "    else:\n",
    "        t31l.append(i)\n",
    "    \n",
    "print(f'Flattened tuple is: {tuple(t31l)}')"
   ]
  },
  {
   "cell_type": "markdown",
   "id": "7b1cf63a-9554-4851-95f7-4b4afce57e9f",
   "metadata": {},
   "source": [
    "32. Create a tuple of the first 5 prime numbers."
   ]
  },
  {
   "cell_type": "code",
   "execution_count": 7,
   "id": "c76a71cd-714e-417a-844c-ce887b5c75d1",
   "metadata": {},
   "outputs": [
    {
     "name": "stdout",
     "output_type": "stream",
     "text": [
      "The list of prime numbers are: (2, 3, 5, 7, 11)\n"
     ]
    }
   ],
   "source": [
    "def prime(n):\n",
    "    l33 = []\n",
    "    for i in range(n):\n",
    "        if i == 0 or i == 1:\n",
    "            continue\n",
    "        else:\n",
    "            for j in range(2, int(i/2)+1):\n",
    "                if i % j == 0:\n",
    "                    break\n",
    "            else:\n",
    "                l33.append(i)\n",
    "    print(\"The list of prime numbers are:\", tuple(l33[:5]))\n",
    "prime(20)           "
   ]
  },
  {
   "cell_type": "markdown",
   "id": "549cef76-6dab-4046-b0a5-e4d96998091b",
   "metadata": {},
   "source": [
    "33. Check if a tuple is a palindrome."
   ]
  },
  {
   "cell_type": "code",
   "execution_count": 9,
   "id": "7c4b2785-b92b-4a39-99cd-1f9df4b7ee8f",
   "metadata": {},
   "outputs": [
    {
     "name": "stdout",
     "output_type": "stream",
     "text": [
      "The tuple isn't palindrome\n"
     ]
    }
   ],
   "source": [
    "t33=(1,2,3,4,5)\n",
    "if t33==t33[::-1]:\n",
    "    print(\"The tuple is palindrome\")\n",
    "else:\n",
    "    print(\"The tuple isn't palindrome\")    "
   ]
  },
  {
   "cell_type": "markdown",
   "id": "8270ebc2-ce59-43ab-beee-8897cbc03089",
   "metadata": {},
   "source": [
    "34. Create a tuple of squares of numbers from 1 to 5."
   ]
  },
  {
   "cell_type": "code",
   "execution_count": 11,
   "id": "710aa559-0a51-453c-9134-3a395c5420c5",
   "metadata": {},
   "outputs": [
    {
     "name": "stdout",
     "output_type": "stream",
     "text": [
      "The square of number are: (1, 4, 9, 16, 25)\n"
     ]
    }
   ],
   "source": [
    "t34=[]\n",
    "for i in range(1,6):\n",
    "    t34.append(i**2)\n",
    "print(f'The square of number are: {tuple(t34)}')"
   ]
  },
  {
   "cell_type": "markdown",
   "id": "e3d1adab-9690-4ec0-9812-9536be6bc17e",
   "metadata": {},
   "source": [
    "35. Filter out all even numbers from a tuple."
   ]
  },
  {
   "cell_type": "code",
   "execution_count": 15,
   "id": "cbf5ddda-c145-47f2-bab5-cdfdc3669340",
   "metadata": {},
   "outputs": [
    {
     "name": "stdout",
     "output_type": "stream",
     "text": [
      "The even numbers are: (10, 20, 30)\n"
     ]
    }
   ],
   "source": [
    "t35=(5,10,15,20,25,30)\n",
    "t35l=[]\n",
    "for i in t35:\n",
    "    if i%2==0:\n",
    "        t35l.append(i)\n",
    "        \n",
    "print(f'The even numbers are: {tuple(t35l)}')"
   ]
  },
  {
   "cell_type": "code",
   "execution_count": 16,
   "id": "69287ec0-115a-4bfe-a513-daee475ae5b6",
   "metadata": {},
   "outputs": [
    {
     "name": "stdout",
     "output_type": "stream",
     "text": [
      "The even numbers are: (10, 20, 30)\n"
     ]
    }
   ],
   "source": [
    "t35la= tuple(i for i  in t35 if i%2==0)\n",
    "print(f'The even numbers are: {tuple(t35la)}')"
   ]
  },
  {
   "cell_type": "markdown",
   "id": "80b211dc-cd6a-41ec-8c21-9815f9c648c6",
   "metadata": {},
   "source": [
    "36. Multiply all elements in a tuple by 2."
   ]
  },
  {
   "cell_type": "code",
   "execution_count": 19,
   "id": "80ef6419-b5ca-44a2-ada7-89ebb9cad492",
   "metadata": {},
   "outputs": [
    {
     "name": "stdout",
     "output_type": "stream",
     "text": [
      "The multiplied tuple is: (2, 4, 6, 8, 10, 12, 14)\n"
     ]
    }
   ],
   "source": [
    "t36=(1,2,3,4,5,6,7)\n",
    "t36m=tuple(2*i for i in t36)\n",
    "print(f'The multiplied tuple is: {t36m}')"
   ]
  },
  {
   "cell_type": "markdown",
   "id": "d875be62-e9fb-47a9-a262-aad3821eaa08",
   "metadata": {},
   "source": [
    "37. Create a tuple of random numbers."
   ]
  },
  {
   "cell_type": "code",
   "execution_count": 27,
   "id": "a7b3280f-7275-4dfb-a380-a396b4498185",
   "metadata": {},
   "outputs": [
    {
     "name": "stdout",
     "output_type": "stream",
     "text": [
      "A tuple of random numbers is: (17, 69, 11, 77, 51, 43, 18, 40, 10, 46)\n"
     ]
    }
   ],
   "source": [
    "import random\n",
    "t37=[]\n",
    "for _ in range(10):\n",
    "    t37.append(random.randint(1,100))\n",
    "print(f'A tuple of random numbers is: {tuple(t37)}')"
   ]
  },
  {
   "cell_type": "markdown",
   "id": "472814c7-6863-450f-80a6-5860faa91459",
   "metadata": {},
   "source": [
    "38. Check if a tuple is sorted."
   ]
  },
  {
   "cell_type": "code",
   "execution_count": 28,
   "id": "0583c148-c07a-418d-bd16-1ad4bb0de663",
   "metadata": {},
   "outputs": [
    {
     "name": "stdout",
     "output_type": "stream",
     "text": [
      "The tuple in't sorted\n"
     ]
    }
   ],
   "source": [
    "t38= (17, 69, 11, 77, 51, 43, 18, 40, 10, 46)\n",
    "if t38==sorted(t38):\n",
    "    print(\"The tuple is sorted\")\n",
    "else:\n",
    "    print(\"The tuple in't sorted\")"
   ]
  },
  {
   "cell_type": "markdown",
   "id": "e56df50d-c799-43a4-8365-34f49f84ff81",
   "metadata": {},
   "source": [
    "39. Rotate a tuple to the left by `n` positions."
   ]
  },
  {
   "cell_type": "code",
   "execution_count": 31,
   "id": "cfdf49b1-efec-47f4-802f-c42fce03d671",
   "metadata": {},
   "outputs": [
    {
     "name": "stdin",
     "output_type": "stream",
     "text": [
      "Enter the n position: 2\n"
     ]
    },
    {
     "name": "stdout",
     "output_type": "stream",
     "text": [
      "The rotated tuple is: (3, 4, 5, 6, 1, 2)\n"
     ]
    }
   ],
   "source": [
    "t39=(1,2,3,4,5,6)\n",
    "n=int(input(\"Enter the n position:\"))\n",
    "if n>=len(t39):\n",
    "    n=n%len(t39)\n",
    "rot_t39=t39[n:]+t39[:n]\n",
    "print(f'The rotated tuple is: {rot_t39}')"
   ]
  },
  {
   "cell_type": "markdown",
   "id": "2ce2024c-2e8d-4a83-8ae4-2c1f6bf360b1",
   "metadata": {},
   "source": [
    "40. Rotate a tuple to the right by `n` positions."
   ]
  },
  {
   "cell_type": "code",
   "execution_count": 33,
   "id": "a84f85d4-8c85-499c-b08f-c537b3b11752",
   "metadata": {},
   "outputs": [
    {
     "name": "stdin",
     "output_type": "stream",
     "text": [
      "Enter the n position: 2\n"
     ]
    },
    {
     "name": "stdout",
     "output_type": "stream",
     "text": [
      "The rotated tuple is: (5, 6, 1, 2, 3, 4)\n"
     ]
    }
   ],
   "source": [
    "t40=(1,2,3,4,5,6)\n",
    "n=int(input(\"Enter the n position:\"))\n",
    "if n>=len(t40):\n",
    "    n=n%len(t40)\n",
    "rot_t40=t40[-n:]+t40[:-n]\n",
    "print(f'The rotated tuple is: {rot_t40}')"
   ]
  },
  {
   "cell_type": "markdown",
   "id": "cb307658-3882-400d-8ecb-48fb67b47c6a",
   "metadata": {},
   "source": [
    "41. Create a tuple of the first 5 Fibonacci numbers."
   ]
  },
  {
   "cell_type": "code",
   "execution_count": 38,
   "id": "f576f452-c2f4-4990-abcf-3fd8fa8bdcf6",
   "metadata": {},
   "outputs": [
    {
     "name": "stdin",
     "output_type": "stream",
     "text": [
      "Enter the n: 5\n"
     ]
    },
    {
     "data": {
      "text/plain": [
       "(0, 1, 1, 2, 3)"
      ]
     },
     "execution_count": 38,
     "metadata": {},
     "output_type": "execute_result"
    }
   ],
   "source": [
    "n=int(input(\"Enter the n:\"))\n",
    "def fib(n):\n",
    "    fibo=[0,1]\n",
    "    while len(fibo)<n:\n",
    "        next=fibo[-1]+fibo[-2]\n",
    "        fibo.append(next)\n",
    "    return tuple(fibo)  \n",
    "fib(n)"
   ]
  },
  {
   "cell_type": "markdown",
   "id": "129b16e6-91f1-41b0-9b02-b47cdcdf3cf8",
   "metadata": {},
   "source": [
    "42. Create a tuple from user input."
   ]
  },
  {
   "cell_type": "code",
   "execution_count": 6,
   "id": "f4e9dc9a-d126-47e9-b81c-6f3118a20cc6",
   "metadata": {},
   "outputs": [
    {
     "name": "stdin",
     "output_type": "stream",
     "text": [
      "Enter elements of tuple vhhnk\n"
     ]
    },
    {
     "name": "stdout",
     "output_type": "stream",
     "text": [
      "The tuple is: ('v', 'h', 'h', 'n', 'k')\n"
     ]
    }
   ],
   "source": [
    "t42=tuple(input(\"Enter elements of tuple\"))\n",
    "print(f\"The tuple is: {t42}\")"
   ]
  },
  {
   "cell_type": "markdown",
   "id": "08a46991-8ceb-4aca-b338-10d279825c45",
   "metadata": {},
   "source": [
    "43. Swap two elements in a tuple."
   ]
  },
  {
   "cell_type": "code",
   "execution_count": 1,
   "id": "57b40612-3032-4c91-9529-8ab0847d5ca2",
   "metadata": {},
   "outputs": [
    {
     "name": "stdin",
     "output_type": "stream",
     "text": [
      "Enter 1st index you wanna swap 2\n",
      "Enter 2nd index with which you wanna swap 3\n"
     ]
    },
    {
     "name": "stdout",
     "output_type": "stream",
     "text": [
      "After swapping the tuple is: (1, 2, 4, 3, 5)\n"
     ]
    }
   ],
   "source": [
    "t43=(1,2,3,4,5)\n",
    "t43l=list(t43)\n",
    "i,j=int(input(\"Enter 1st index you wanna swap\")),int(input(\"Enter 2nd index with which you wanna swap\"))\n",
    "t43l[i],t43l[j]=t43l[j],t43l[i]\n",
    "print(\"After swapping the tuple is:\",tuple(t43l))\n",
    "                                                    "
   ]
  },
  {
   "cell_type": "markdown",
   "id": "00b1fa29-5e98-4c7b-b883-c932aa62aa22",
   "metadata": {},
   "source": [
    "44. Reverse the elements of a tuple."
   ]
  },
  {
   "cell_type": "code",
   "execution_count": 2,
   "id": "88e48a1e-4ba6-4902-a1f9-44e8e1de2a84",
   "metadata": {},
   "outputs": [
    {
     "name": "stdout",
     "output_type": "stream",
     "text": [
      "The rotated tuple is: (5, 4, 3, 2, 1)\n"
     ]
    }
   ],
   "source": [
    "t44=(1,2,3,4,5)\n",
    "print(f'The rotated tuple is: {t44[::-1]}')"
   ]
  },
  {
   "cell_type": "markdown",
   "id": "0772e5d5-33af-444d-9e1a-e500077557fa",
   "metadata": {},
   "source": [
    "45. Create a tuple of the first `n` powers of 2."
   ]
  },
  {
   "cell_type": "code",
   "execution_count": 4,
   "id": "98df81b7-f7ed-45e2-9d7e-8843699e683a",
   "metadata": {},
   "outputs": [
    {
     "name": "stdout",
     "output_type": "stream",
     "text": [
      "The tuple of first n powers of 2 is: (1, 2, 4, 8, 16)\n"
     ]
    }
   ],
   "source": [
    "t45=tuple(2**n for n in range(5))\n",
    "print(f'The tuple of first n powers of 2 is: {t45}')"
   ]
  },
  {
   "cell_type": "markdown",
   "id": "5dc90ada-5a1e-4ce1-a0c2-9a374132129b",
   "metadata": {},
   "source": [
    "46. Find the longest string in a tuple of strings."
   ]
  },
  {
   "cell_type": "code",
   "execution_count": 5,
   "id": "d60d0fc2-2644-48f4-99d3-10ca6b0909fb",
   "metadata": {},
   "outputs": [
    {
     "name": "stdout",
     "output_type": "stream",
     "text": [
      "The longest string is: tastyfoods\n"
     ]
    }
   ],
   "source": [
    "t46=('apple','ant','milk','banana','tastyfoods')\n",
    "long_str=''\n",
    "for i in t46:\n",
    "    if len(i)>len(long_str):\n",
    "        long_str=i\n",
    "print(\"The longest string is:\", long_str)"
   ]
  },
  {
   "cell_type": "markdown",
   "id": "ade8b2fb-11e9-4ddf-b5b6-20d6b22f60cb",
   "metadata": {},
   "source": [
    "47. Find the shortest string in a tuple of strings."
   ]
  },
  {
   "cell_type": "code",
   "execution_count": 8,
   "id": "a9b20b35-d74e-4dfb-a55f-c644a4c5bd85",
   "metadata": {},
   "outputs": [
    {
     "name": "stdout",
     "output_type": "stream",
     "text": [
      "The shortest string is: a\n"
     ]
    }
   ],
   "source": [
    "t47=('a','apple','milk','cheese','banana')\n",
    "short_str=t47[0]\n",
    "for i in t47:\n",
    "    if len(i)<len(short_str):\n",
    "        short_str=i\n",
    "print('The shortest string is:', short_str)"
   ]
  },
  {
   "cell_type": "markdown",
   "id": "a76d5dff-2acf-4978-9993-aa2b0e69a391",
   "metadata": {},
   "source": [
    "48. Create a tuple of the first `n` triangular numbers."
   ]
  },
  {
   "cell_type": "code",
   "execution_count": 11,
   "id": "fdd4212d-ae36-4a6b-a0ec-386e3115dcdf",
   "metadata": {},
   "outputs": [
    {
     "name": "stdin",
     "output_type": "stream",
     "text": [
      "Enter n: 5\n"
     ]
    },
    {
     "name": "stdout",
     "output_type": "stream",
     "text": [
      "The first n triangular numbers: (1, 3, 6, 10, 15)\n"
     ]
    }
   ],
   "source": [
    "n=int(input(\"Enter n:\"))\n",
    "t48=tuple(i*(i+1)//2 for i in range(1,n+1))\n",
    "print(f'The first n triangular numbers: {t48}')"
   ]
  },
  {
   "cell_type": "markdown",
   "id": "59a712d2-3602-42d7-9d4a-6909ca2772e2",
   "metadata": {},
   "source": [
    "49. Check if a tuple contains another tuple as a subsequence."
   ]
  },
  {
   "cell_type": "code",
   "execution_count": 10,
   "id": "a932da27-3fba-446b-874f-930b277c02c1",
   "metadata": {},
   "outputs": [
    {
     "name": "stdout",
     "output_type": "stream",
     "text": [
      " Main tuple doesn't contain subsequesnce\n"
     ]
    }
   ],
   "source": [
    "t49=(1,2,3,4,5,6,9)\n",
    "t49_sub=(3,4,5,8)\n",
    "def has_subsequence(t49,t49_sub):\n",
    "    for i in range(len(t49)-len(t49_sub)+1):\n",
    "        if t49[i:i+len(t49_sub)]==t49_sub:\n",
    "            return True\n",
    "    return False\n",
    "if has_subsequence(t49,t49_sub):\n",
    "    print(f' Main tuple contains subsequence')\n",
    "else:\n",
    "    print(f\" Main tuple doesn't contain subsequesnce\")"
   ]
  },
  {
   "cell_type": "markdown",
   "id": "f5d075c5-ca1c-448c-bc81-a020dcc99ec3",
   "metadata": {},
   "source": [
    "50. Create a tuple of alternating 1s and 0s of length `n`."
   ]
  },
  {
   "cell_type": "code",
   "execution_count": 11,
   "id": "15a21dc9-6977-49c1-bfdf-05bd48736985",
   "metadata": {},
   "outputs": [
    {
     "name": "stdout",
     "output_type": "stream",
     "text": [
      "The tuple is: (1, 0, 1, 0, 1, 0, 1, 0, 1)\n"
     ]
    }
   ],
   "source": [
    "t50=tuple(i%2 for i in range(1,10))\n",
    "print(f'The tuple is: {t50}')"
   ]
  },
  {
   "cell_type": "markdown",
   "id": "28f29680-eeeb-496c-87e5-b4dbbc643c96",
   "metadata": {},
   "source": [
    "### Set Based Practice Problem :"
   ]
  },
  {
   "cell_type": "markdown",
   "id": "c4a66345-0470-4c48-823f-69a46f2685be",
   "metadata": {},
   "source": [
    "1. Create a set with integers from 1 to 5."
   ]
  },
  {
   "cell_type": "code",
   "execution_count": 9,
   "id": "340307aa-826a-43db-ad54-fa5980a64317",
   "metadata": {},
   "outputs": [
    {
     "name": "stdout",
     "output_type": "stream",
     "text": [
      "The Set is: {1, 2, 3, 4, 5}\n"
     ]
    }
   ],
   "source": [
    "s1=set({})\n",
    "for i in range(5):\n",
    "    s1.add(i+1)\n",
    "print(\"The Set is:\",s1)"
   ]
  },
  {
   "cell_type": "markdown",
   "id": "1e8c1b2e-a0b7-44e7-af6e-583367e7f493",
   "metadata": {},
   "source": [
    "2. Add an element to a set"
   ]
  },
  {
   "cell_type": "code",
   "execution_count": 13,
   "id": "ac5c0f87-33c4-4127-8c55-86997b3efa54",
   "metadata": {},
   "outputs": [
    {
     "name": "stdout",
     "output_type": "stream",
     "text": [
      "After adding an element the set is: {1, 2, 3, 4, 5}\n"
     ]
    }
   ],
   "source": [
    "s2={1,2,3,4}\n",
    "s2.add(5)\n",
    "print(f'After adding an element the set is: {s2}')"
   ]
  },
  {
   "cell_type": "markdown",
   "id": "43f733f3-a9d8-4075-a81f-4d9ad02686ba",
   "metadata": {},
   "source": [
    "3. Remove an element from a set."
   ]
  },
  {
   "cell_type": "code",
   "execution_count": 14,
   "id": "36ea4e71-0f38-4667-bd54-c82cf2beea84",
   "metadata": {},
   "outputs": [
    {
     "name": "stdout",
     "output_type": "stream",
     "text": [
      "After removing an element, the set is: {1, 2, 4, 6}\n"
     ]
    }
   ],
   "source": [
    "s3={0,1,2,4,6}\n",
    "s3.remove(0)\n",
    "print('After removing an element, the set is:', s3)"
   ]
  },
  {
   "cell_type": "markdown",
   "id": "e795f375-87a8-48ec-bc32-cb9e445d856f",
   "metadata": {},
   "source": [
    "4. Check if an element exists in a set."
   ]
  },
  {
   "cell_type": "code",
   "execution_count": 15,
   "id": "6f7545a7-da2e-4762-a8d5-19858e020662",
   "metadata": {},
   "outputs": [
    {
     "name": "stdin",
     "output_type": "stream",
     "text": [
      "Enter the element: 5\n"
     ]
    },
    {
     "name": "stdout",
     "output_type": "stream",
     "text": [
      "The element 5 exists in the set\n"
     ]
    }
   ],
   "source": [
    "s4={5,10,2,3,25}\n",
    "el=int(input(\"Enter the element:\"))\n",
    "if el in s4:\n",
    "    print(f'The element {el} exists in the set')\n",
    "else:\n",
    "    print(f\"The element {el} doesn't exist in the set\")"
   ]
  },
  {
   "cell_type": "markdown",
   "id": "487351ae-44c4-4c01-ac69-68177bcd094d",
   "metadata": {},
   "source": [
    "5. Find the length of a set without using the `len()` function"
   ]
  },
  {
   "cell_type": "code",
   "execution_count": 16,
   "id": "3593f05a-98e0-41e5-9909-b39b6b17d540",
   "metadata": {},
   "outputs": [
    {
     "name": "stdout",
     "output_type": "stream",
     "text": [
      "The length is: 6\n"
     ]
    }
   ],
   "source": [
    "s5={1,2,3,4,5,6}\n",
    "length=0\n",
    "for i in s5:\n",
    "    length+=1\n",
    "print(f'The length is: {length}')"
   ]
  },
  {
   "cell_type": "markdown",
   "id": "97979b74-07b8-4162-b877-0b81342aeebd",
   "metadata": {},
   "source": [
    "6. Clear all elements from a set."
   ]
  },
  {
   "cell_type": "code",
   "execution_count": 19,
   "id": "07aac95a-8828-4cbe-9ba2-d2ab32eec9ff",
   "metadata": {},
   "outputs": [],
   "source": [
    "s6={1,2,3,4}\n",
    "s6.clear()\n"
   ]
  },
  {
   "cell_type": "markdown",
   "id": "a90f37ef-95b3-438c-814e-5619957bd96e",
   "metadata": {},
   "source": [
    "7. Create a set of even numbers from 1 to 10."
   ]
  },
  {
   "cell_type": "code",
   "execution_count": 20,
   "id": "8d134fe1-d072-48b2-83f1-98f783b7c08c",
   "metadata": {},
   "outputs": [
    {
     "name": "stdout",
     "output_type": "stream",
     "text": [
      "The set is: {2, 4, 6, 8, 10}\n"
     ]
    }
   ],
   "source": [
    "s7=set({})\n",
    "for i in range(1,11):\n",
    "    if i%2==0:\n",
    "        s7.add(i)\n",
    "print(f'The set is: {s7}')"
   ]
  },
  {
   "cell_type": "markdown",
   "id": "ab456887-930a-4b2f-baca-c94e44991ea0",
   "metadata": {},
   "source": [
    "8. Create a set of odd numbers from 1 to 10."
   ]
  },
  {
   "cell_type": "code",
   "execution_count": 22,
   "id": "82050bbe-4468-40bb-8ef1-fe0da0aeb96d",
   "metadata": {},
   "outputs": [
    {
     "name": "stdout",
     "output_type": "stream",
     "text": [
      "The set is: {1, 3, 5, 7, 9}\n"
     ]
    }
   ],
   "source": [
    "s8=set({})\n",
    "for i in range(1,11):\n",
    "    if i%2!=0:\n",
    "        s8.add(i)\n",
    "print(f'The set is: {s8}')"
   ]
  },
  {
   "cell_type": "markdown",
   "id": "525aef49-b5d4-46f5-be46-91b7031640bc",
   "metadata": {},
   "source": [
    "9. Find the union of two sets."
   ]
  },
  {
   "cell_type": "code",
   "execution_count": 27,
   "id": "633b1711-58c9-45ab-aca1-9cbd1857ef0e",
   "metadata": {},
   "outputs": [
    {
     "name": "stdout",
     "output_type": "stream",
     "text": [
      "The union of two sets: {1, 2, 3, 4, 5, 6, 7, 8, 9, 10}\n"
     ]
    }
   ],
   "source": [
    "s9a= {2, 4, 6, 8, 10}\n",
    "s9b= {1, 3, 5, 7, 9}\n",
    "print(f'The union of two sets: {s9a.union(s9b)}')"
   ]
  },
  {
   "cell_type": "markdown",
   "id": "448fab37-1e09-4efd-85cb-0c703b53bce9",
   "metadata": {},
   "source": [
    "10. Find the intersection of two sets."
   ]
  },
  {
   "cell_type": "code",
   "execution_count": 28,
   "id": "159c849b-95ff-42a4-8af9-f722ab525cca",
   "metadata": {},
   "outputs": [
    {
     "name": "stdout",
     "output_type": "stream",
     "text": [
      "The intersection of two sets: {0, 6}\n"
     ]
    }
   ],
   "source": [
    "s10a={0,1,3,6,9}\n",
    "s10b={0,2,4,6,8}\n",
    "print(f'The intersection of two sets: {s10a.intersection(s10b)}')"
   ]
  },
  {
   "cell_type": "markdown",
   "id": "93422e78-0406-4f12-a93f-cb671df82c07",
   "metadata": {},
   "source": [
    "11. Find the difference between two sets."
   ]
  },
  {
   "cell_type": "code",
   "execution_count": 29,
   "id": "3fa38f33-62a9-4c50-b997-0628390b3a04",
   "metadata": {},
   "outputs": [
    {
     "name": "stdout",
     "output_type": "stream",
     "text": [
      "The difference between two sets: {1, 3, 9}\n"
     ]
    }
   ],
   "source": [
    "s11a={0,1,3,6,9}\n",
    "s11b={0,2,4,6,8}\n",
    "print(f'The difference between two sets: {s11a.difference(s11b)}')"
   ]
  },
  {
   "cell_type": "markdown",
   "id": "27652339-9783-4388-be6a-60f1fd4b8f9b",
   "metadata": {},
   "source": [
    "12. Check if a set is a subset of another set."
   ]
  },
  {
   "cell_type": "code",
   "execution_count": 32,
   "id": "e88f0105-df39-482b-a836-28155b9102ad",
   "metadata": {},
   "outputs": [
    {
     "name": "stdout",
     "output_type": "stream",
     "text": [
      "The set {0, 2, 4, 6} isn't a subset of another set\n"
     ]
    }
   ],
   "source": [
    "s12={0,1,3,6,9}\n",
    "s12_sub={0,2,4,6}\n",
    "if s12.issubset(s12_sub):\n",
    "    print(f'The set {s12_sub} is a subset of another set')\n",
    "else:\n",
    "     print(f\"The set {s12_sub} isn't a subset of another set\")"
   ]
  },
  {
   "cell_type": "markdown",
   "id": "c3499235-07c6-4718-abd9-3845cd977937",
   "metadata": {},
   "source": [
    "13. Check if a set is a superset of another set."
   ]
  },
  {
   "cell_type": "code",
   "execution_count": 33,
   "id": "0d3a23ba-fa98-4c86-ae36-464b0d4269b6",
   "metadata": {},
   "outputs": [
    {
     "name": "stdout",
     "output_type": "stream",
     "text": [
      "The set is a superset of another set\n"
     ]
    }
   ],
   "source": [
    "s13={1,2,3,4,5}\n",
    "s13_s={1,2,3,4,5,6}\n",
    "if s13_s.issuperset(s13):\n",
    "    print(\"The set is a superset of another set\")\n",
    "else:\n",
    "    print(\"The set isn't a superset of another set\")"
   ]
  },
  {
   "cell_type": "markdown",
   "id": "c6125910-2c1a-4336-9b3e-8c3322cf9622",
   "metadata": {},
   "source": [
    "14. Create a set from a list."
   ]
  },
  {
   "cell_type": "code",
   "execution_count": 35,
   "id": "a75f2bdb-0e48-49f9-a395-2f63ee0b4f9b",
   "metadata": {},
   "outputs": [
    {
     "name": "stdout",
     "output_type": "stream",
     "text": [
      "The list is: {5, 10, 15, 20, 25}\n"
     ]
    }
   ],
   "source": [
    "s14=[5,10,15,5,10,5,20,25]\n",
    "print(f'The list is: {set(s14)}')"
   ]
  },
  {
   "cell_type": "markdown",
   "id": "6356db69-4ae7-4803-bfea-1549e5551c21",
   "metadata": {},
   "source": [
    "15. Convert a set to a list."
   ]
  },
  {
   "cell_type": "code",
   "execution_count": 37,
   "id": "9355a469-5360-4ac8-b715-91fdc7edc0b2",
   "metadata": {},
   "outputs": [
    {
     "name": "stdout",
     "output_type": "stream",
     "text": [
      "The converted list is: [1, 2, 4, 5, 6]\n"
     ]
    }
   ],
   "source": [
    "s15={6,5,4,2,1}\n",
    "print(f'The converted list is: {list(s15)}')"
   ]
  },
  {
   "cell_type": "markdown",
   "id": "29ae43ab-8cb1-4ff3-972c-7d1d6a41c6ee",
   "metadata": {},
   "source": [
    "16. Remove a random element from a set."
   ]
  },
  {
   "cell_type": "code",
   "execution_count": 46,
   "id": "07fb4028-a7e4-4d49-9ae2-fe7efa341d1f",
   "metadata": {},
   "outputs": [
    {
     "name": "stdout",
     "output_type": "stream",
     "text": [
      "After removing the set is: {20, 5, 41, 10, 25, 15}\n"
     ]
    }
   ],
   "source": [
    "import random\n",
    "s16={5,10,15,20,25,30,41}\n",
    "r=random.choice(list(s16))\n",
    "s16.remove(r)\n",
    "print(f'After removing the set is: {s16}')"
   ]
  },
  {
   "cell_type": "markdown",
   "id": "608bb369-2bfe-4162-bb98-406f81034f35",
   "metadata": {},
   "source": [
    "17. Pop an element from a set."
   ]
  },
  {
   "cell_type": "code",
   "execution_count": 48,
   "id": "379a2b2b-1d2a-4e14-8a78-3cc6c9f14497",
   "metadata": {},
   "outputs": [
    {
     "name": "stdout",
     "output_type": "stream",
     "text": [
      "The set is: {5, 30, 41, 10, 25, 15}\n"
     ]
    }
   ],
   "source": [
    "s17={5,10,15,20,25,30,41}\n",
    "s17.pop()\n",
    "print(f'The set is: {s17}')"
   ]
  },
  {
   "cell_type": "markdown",
   "id": "519ec7c4-c3ed-4f62-a899-3eaa519f267a",
   "metadata": {},
   "source": [
    "18. Check if two sets have no elements in common."
   ]
  },
  {
   "cell_type": "code",
   "execution_count": 5,
   "id": "375956a7-c601-43a6-91fc-bf4ad2d19e9f",
   "metadata": {},
   "outputs": [
    {
     "name": "stdout",
     "output_type": "stream",
     "text": [
      "The two sets have elements in common\n"
     ]
    }
   ],
   "source": [
    "s18a={1,2,3,4,5}\n",
    "s18b={1,3,5}\n",
    "def check_set(s18a,s18b):\n",
    "    for i in s18a:\n",
    "        for j in s18b:\n",
    "            if i == j:\n",
    "                return True\n",
    "    return False\n",
    "\n",
    "if check_set(s18a,s18b):\n",
    "    print(f'The two sets have elements in common')\n",
    "else:\n",
    "    print(f'The two sets have no elements in common')"
   ]
  },
  {
   "cell_type": "markdown",
   "id": "95fb1879-0dd8-4b9d-8e5b-e1dbeedff342",
   "metadata": {},
   "source": [
    "19. Find the symmetric difference between two sets."
   ]
  },
  {
   "cell_type": "code",
   "execution_count": 3,
   "id": "2de17dfe-0e2f-4001-927c-ed9c3c62cc93",
   "metadata": {},
   "outputs": [
    {
     "name": "stdout",
     "output_type": "stream",
     "text": [
      "The symmetric difference between is:{1, 2, 3, 6}\n"
     ]
    }
   ],
   "source": [
    "s19={1,2,3,4,5}\n",
    "s19b={4,5,6}\n",
    "print(f'The symmetric difference between is:{s19.symmetric_difference(s19b)}')"
   ]
  },
  {
   "cell_type": "markdown",
   "id": "cf85b24e-824c-44d6-8e04-e28d48350f87",
   "metadata": {},
   "source": [
    "20. Update a set with elements from another set."
   ]
  },
  {
   "cell_type": "code",
   "execution_count": 1,
   "id": "c0a39a97-6cd8-4ee0-b14a-184a95cf1163",
   "metadata": {},
   "outputs": [
    {
     "name": "stdout",
     "output_type": "stream",
     "text": [
      "The updated set is: {1, 2, 3, 4, 5, 6, 7}\n"
     ]
    }
   ],
   "source": [
    "s20a={1,2,3,4}\n",
    "s20b={4,5,6,7}\n",
    "s20a.update(s20b)\n",
    "print(f'The updated set is: {s20a}')"
   ]
  },
  {
   "cell_type": "markdown",
   "id": "f005dbb3-d571-4c96-a961-49ccc61c77a5",
   "metadata": {},
   "source": [
    "21. Create a set of the first 5 prime numbers."
   ]
  },
  {
   "cell_type": "code",
   "execution_count": 9,
   "id": "eedfa067-039f-4733-8efa-fe701222762f",
   "metadata": {},
   "outputs": [
    {
     "name": "stdout",
     "output_type": "stream",
     "text": [
      "The set of prime numbers are: {2, 3, 5, 7, 11}\n"
     ]
    }
   ],
   "source": [
    "def prime(n):\n",
    "    for i in range(2,int(n**0.5)+1):\n",
    "        if n%i==0:\n",
    "            return False\n",
    "    return True\n",
    "l1=[]\n",
    "for i in range(2,30):\n",
    "    if prime(i):\n",
    "        l1.append(i)\n",
    "print(f'The set of prime numbers are: {set(l1[:5])}')"
   ]
  },
  {
   "cell_type": "markdown",
   "id": "f1443300-2c79-4c7d-8cbf-b312a56a96f6",
   "metadata": {},
   "source": [
    "22. Check if two sets are identical."
   ]
  },
  {
   "cell_type": "code",
   "execution_count": 8,
   "id": "70f0d1ee-4695-4b0c-93e2-03942fb108b2",
   "metadata": {},
   "outputs": [
    {
     "name": "stdout",
     "output_type": "stream",
     "text": [
      "The sets aren't identical\n"
     ]
    }
   ],
   "source": [
    "s22a={1,3,5}\n",
    "s22b={5}\n",
    "if s22a==s22b:\n",
    "    print(\"The sets are identical\")\n",
    "else:\n",
    "    print(\"The sets aren't identical\")"
   ]
  },
  {
   "cell_type": "markdown",
   "id": "797a480f-c756-4415-920a-dd6912778700",
   "metadata": {},
   "source": [
    "23. Create a frozen set."
   ]
  },
  {
   "cell_type": "code",
   "execution_count": 13,
   "id": "1c4d9933-e95e-44ef-823d-7d56816ff588",
   "metadata": {},
   "outputs": [
    {
     "name": "stdout",
     "output_type": "stream",
     "text": [
      "The frozen set is: frozenset({10, 20, 5, 15})\n"
     ]
    }
   ],
   "source": [
    "s23={5,10,15,20}\n",
    "print(f'The frozen set is: {frozenset(s23)}')"
   ]
  },
  {
   "cell_type": "markdown",
   "id": "9a042b4d-87dd-4a8f-84e7-114ed9535286",
   "metadata": {},
   "source": [
    "24. Check if a set is disjoint with another set."
   ]
  },
  {
   "cell_type": "code",
   "execution_count": 16,
   "id": "3a0099ed-e548-474c-9150-1f5d09cc1661",
   "metadata": {},
   "outputs": [
    {
     "name": "stdout",
     "output_type": "stream",
     "text": [
      "The set isn't disjoint\n"
     ]
    }
   ],
   "source": [
    "s24={5,10,15,20}\n",
    "s24a={1,2,3,4,5}\n",
    "if s24.isdisjoint(s24a)== True:\n",
    "    print(f'The set is disjoint')\n",
    "else:\n",
    "    print(f\"The set isn't disjoint\")"
   ]
  },
  {
   "cell_type": "markdown",
   "id": "b6250b09-22c3-4a45-b8ac-cb1ea394b52e",
   "metadata": {},
   "source": [
    "25. Create a set of squares of numbers from 1 to 5."
   ]
  },
  {
   "cell_type": "code",
   "execution_count": 19,
   "id": "45c97e33-106a-4cf7-a70c-1fd89ef89261",
   "metadata": {},
   "outputs": [
    {
     "name": "stdout",
     "output_type": "stream",
     "text": [
      "the set of square is: {1, 4, 9, 16, 25}\n"
     ]
    }
   ],
   "source": [
    "s25=set(i**2 for i in range(1,6))\n",
    "print(\"the set of square is:\",s25)"
   ]
  },
  {
   "cell_type": "markdown",
   "id": "605a927b-1e85-4dbc-98e0-ed57c296b784",
   "metadata": {},
   "source": [
    "26. Filter out all even numbers from a set."
   ]
  },
  {
   "cell_type": "code",
   "execution_count": 24,
   "id": "1e13ceca-aae2-4923-86f7-b4d162346cdd",
   "metadata": {},
   "outputs": [
    {
     "name": "stdout",
     "output_type": "stream",
     "text": [
      "The even numbers are:{2, 10, 4}\n"
     ]
    }
   ],
   "source": [
    "s26={1,2,4,5,10}\n",
    "s26_even=set(i for i in s26 if i%2==0)\n",
    "print(f\"The even numbers are:{s26_even}\")"
   ]
  },
  {
   "cell_type": "markdown",
   "id": "2c900c94-bc6f-4e2d-aea8-514f67a508e2",
   "metadata": {},
   "source": [
    "27. Multiply all elements in a set by 2."
   ]
  },
  {
   "cell_type": "code",
   "execution_count": 26,
   "id": "f1dd9914-caec-46a2-af82-6d8a5434beb8",
   "metadata": {},
   "outputs": [
    {
     "name": "stdout",
     "output_type": "stream",
     "text": [
      "The multiplied set is: {2, 4, 6, 8, 10}\n"
     ]
    }
   ],
   "source": [
    "s27={1,2,3,4,5}\n",
    "s27_mul=set(i*2 for i in s27)\n",
    "print(f\"The multiplied set is: {s27_mul}\")"
   ]
  },
  {
   "cell_type": "markdown",
   "id": "e3ad4932-199d-42c5-b57f-1de209b190b0",
   "metadata": {},
   "source": [
    "28. Create a set of random numbers."
   ]
  },
  {
   "cell_type": "code",
   "execution_count": 30,
   "id": "a480e8a1-0848-4818-81da-1dd57e7b342d",
   "metadata": {},
   "outputs": [
    {
     "name": "stdout",
     "output_type": "stream",
     "text": [
      "The set of random numbers is:{1, 4, 43, 12, 18}\n"
     ]
    }
   ],
   "source": [
    "import random\n",
    "s28=set()\n",
    "for i in range(5):\n",
    "    s28.add(random.randint(1,50))\n",
    "print(f\"The set of random numbers is:{s28}\")"
   ]
  },
  {
   "cell_type": "markdown",
   "id": "c0944973-cf60-4a49-9df5-40e8ca0e989e",
   "metadata": {},
   "source": [
    "29. Check if a set is empty."
   ]
  },
  {
   "cell_type": "code",
   "execution_count": 32,
   "id": "e22f97e7-5bbb-4815-b010-00a0f3c63eb8",
   "metadata": {},
   "outputs": [
    {
     "name": "stdout",
     "output_type": "stream",
     "text": [
      "The set isn't empty\n"
     ]
    }
   ],
   "source": [
    "s29={1}\n",
    "if len(s29)==0:\n",
    "    print(\"The set is empty\")\n",
    "else:\n",
    "    print(\"The set isn't empty\")"
   ]
  },
  {
   "cell_type": "markdown",
   "id": "9cc14ae6-b569-492b-9ff9-d086e46d347b",
   "metadata": {},
   "source": [
    "30. Create a nested set (hint: use frozenset)."
   ]
  },
  {
   "cell_type": "code",
   "execution_count": 37,
   "id": "4b38694c-5ccd-43d0-b71e-c6dbbe9b5455",
   "metadata": {},
   "outputs": [
    {
     "name": "stdout",
     "output_type": "stream",
     "text": [
      "The nested set is:{frozenset({1, 2, 20}), frozenset({2, 3, 4})}\n"
     ]
    }
   ],
   "source": [
    "s30={frozenset({1,2,20}), frozenset({3,2,4})}\n",
    "print(f'The nested set is:{s30}')"
   ]
  },
  {
   "cell_type": "markdown",
   "id": "d063c0ff-072d-4185-adda-1e930c86f46b",
   "metadata": {},
   "source": [
    "31. Remove an element from a set using the discard method."
   ]
  },
  {
   "cell_type": "code",
   "execution_count": 39,
   "id": "d99f97bc-1861-4b50-9740-914c645bc52d",
   "metadata": {},
   "outputs": [
    {
     "name": "stdin",
     "output_type": "stream",
     "text": [
      "Enter the element, you wanna remove: 4\n"
     ]
    },
    {
     "name": "stdout",
     "output_type": "stream",
     "text": [
      "After removing the set is {32, 65, 2, 3, 1, 6, 45, 58}\n"
     ]
    }
   ],
   "source": [
    "s31={3,2,1,65,4,6,58,2,32,45}\n",
    "el=int(input(\"Enter the element, you wanna remove:\"))\n",
    "s31.discard(el)\n",
    "print(f'After removing the set is {s31}')"
   ]
  },
  {
   "cell_type": "markdown",
   "id": "13e44d82-943c-4959-bf7d-600fee2b9378",
   "metadata": {},
   "source": [
    "32. Compare two sets."
   ]
  },
  {
   "cell_type": "code",
   "execution_count": 42,
   "id": "946338a1-97bd-4445-a460-014a196b9cf0",
   "metadata": {},
   "outputs": [
    {
     "name": "stdout",
     "output_type": "stream",
     "text": [
      "Set 1: {s32}\n",
      "Set 2: {s32a}\n",
      "Set1 is subset of Set2: False\n",
      "Set1 is superset of Set2: False\n",
      "Set1 union Set2: {1, 2, 3, 4, 6, 9}\n",
      "Set1 intersection Set2: {6}\n"
     ]
    }
   ],
   "source": [
    "s32={1,3,6,9}\n",
    "s32a={2,4,6}\n",
    "print(\"Set 1: {s32}\")\n",
    "print(\"Set 2: {s32a}\")\n",
    "print(f'Set1 is subset of Set2: {s32.issubset(s32a)}')\n",
    "print(f'Set1 is superset of Set2: {s32.issuperset(s32a)}')\n",
    "print(f'Set1 union Set2: {s32.union(s32a)}')\n",
    "print(f'Set1 intersection Set2: {s32.intersection(s32a)}')"
   ]
  },
  {
   "cell_type": "markdown",
   "id": "688faa66-e8f6-42eb-b411-39730a8db13b",
   "metadata": {},
   "source": [
    "33. Create a set from a string."
   ]
  },
  {
   "cell_type": "code",
   "execution_count": 45,
   "id": "976f67aa-b3da-4d0a-94fc-00f6a3c6cf16",
   "metadata": {},
   "outputs": [
    {
     "name": "stdin",
     "output_type": "stream",
     "text": [
      "Enter a string: abcd\n"
     ]
    },
    {
     "name": "stdout",
     "output_type": "stream",
     "text": [
      "The set is: {'c', 'b', 'd', 'a'}\n"
     ]
    }
   ],
   "source": [
    "str_33=input(\"Enter a string:\")\n",
    "s33=set(str_33)\n",
    "print(\"The set is:\",s33)"
   ]
  },
  {
   "cell_type": "markdown",
   "id": "871d0e95-1eaf-4ce3-b9a7-c7e4329c8ec7",
   "metadata": {},
   "source": [
    "34. Convert a set of strings to a set of integers."
   ]
  },
  {
   "cell_type": "code",
   "execution_count": 48,
   "id": "d528c80f-a912-44cf-b172-417304204243",
   "metadata": {},
   "outputs": [
    {
     "name": "stdout",
     "output_type": "stream",
     "text": [
      "The converted set of integers is: {1, 2, 3, 4}\n"
     ]
    }
   ],
   "source": [
    "s34_str={'1','2','3','4'}\n",
    "s34_int=set()\n",
    "for i in s34_str:\n",
    "    s34_int.add(int(i))\n",
    "print(f'The converted set of integers is: {s34_int}')"
   ]
  },
  {
   "cell_type": "markdown",
   "id": "9cee6eef-1a15-4985-8b62-86fc2d6f4d1a",
   "metadata": {},
   "source": [
    "35. Convert a set of integers to a set of strings."
   ]
  },
  {
   "cell_type": "code",
   "execution_count": 50,
   "id": "e68bb8fe-84b9-482d-9495-f8df4f060e8a",
   "metadata": {},
   "outputs": [
    {
     "name": "stdout",
     "output_type": "stream",
     "text": [
      "The converted set of integers is: {'1', '3', '4', '2'}\n"
     ]
    }
   ],
   "source": [
    "s35_int={1, 2, 3, 4}\n",
    "s35_str=set(str(i) for i in s35_int)\n",
    "print(f'The converted set of integers is: {s35_str}')"
   ]
  },
  {
   "cell_type": "markdown",
   "id": "a1daa21a-8528-467b-b11c-00aab80c4eaa",
   "metadata": {},
   "source": [
    "36. Create a set from a tuple."
   ]
  },
  {
   "cell_type": "code",
   "execution_count": 54,
   "id": "d7ea3f7a-73cb-485a-928a-b23a951984a6",
   "metadata": {},
   "outputs": [
    {
     "name": "stdout",
     "output_type": "stream",
     "text": [
      "the set is: {1, 'b', 2, 'a'}\n"
     ]
    }
   ],
   "source": [
    "s36=('a','b',1,2,1,2,2)\n",
    "print(f\"the set is: {set(s36)}\")"
   ]
  },
  {
   "cell_type": "markdown",
   "id": "d3689768-21e2-4af3-b788-abf57a449622",
   "metadata": {},
   "source": [
    "37. Convert a set to a tuple."
   ]
  },
  {
   "cell_type": "code",
   "execution_count": 57,
   "id": "cc853f4e-5ec9-429b-844e-0066bec8b0e9",
   "metadata": {},
   "outputs": [
    {
     "name": "stdout",
     "output_type": "stream",
     "text": [
      "The tuple is: (1, 'b', 2, 'a')\n"
     ]
    }
   ],
   "source": [
    "s37={1, 'b', 2, 'a'}\n",
    "print(f\"The tuple is: {tuple(s37)}\")"
   ]
  },
  {
   "cell_type": "markdown",
   "id": "bd8e85f7-4fe4-4b1c-8d4e-747c25624017",
   "metadata": {},
   "source": [
    "38. Find the maximum value in a set."
   ]
  },
  {
   "cell_type": "code",
   "execution_count": 59,
   "id": "8b2d4edd-021b-4d5c-87ee-1f65dd9138b9",
   "metadata": {},
   "outputs": [
    {
     "name": "stdout",
     "output_type": "stream",
     "text": [
      "The maximum value is: 60\n"
     ]
    }
   ],
   "source": [
    "s38={5,10,15,13,60,34}\n",
    "print(\"The maximum value is:\", max(s38))"
   ]
  },
  {
   "cell_type": "markdown",
   "id": "cf1c6294-56ea-4f4f-9e51-f30caf4a72ae",
   "metadata": {},
   "source": [
    "39. Find the minimum value in a set."
   ]
  },
  {
   "cell_type": "code",
   "execution_count": 60,
   "id": "f7b1bde5-d7db-491a-b950-acf25cb14d6a",
   "metadata": {},
   "outputs": [
    {
     "name": "stdout",
     "output_type": "stream",
     "text": [
      "The minimum value is: 5\n"
     ]
    }
   ],
   "source": [
    "s38={5,10,15,13,60,34}\n",
    "print(\"The minimum value is:\", min(s38))"
   ]
  },
  {
   "cell_type": "markdown",
   "id": "e01d4040-2cf1-4751-a43a-2b2f2615252f",
   "metadata": {},
   "source": [
    "40. Create a set from user input."
   ]
  },
  {
   "cell_type": "code",
   "execution_count": 63,
   "id": "3512f324-91b9-4b0c-b067-5731d1c2f813",
   "metadata": {},
   "outputs": [
    {
     "name": "stdin",
     "output_type": "stream",
     "text": [
      "Enter elements a,b,c\n"
     ]
    },
    {
     "name": "stdout",
     "output_type": "stream",
     "text": [
      "The set is: {'a,b,c'}\n"
     ]
    }
   ],
   "source": [
    "s40=set()\n",
    "el=input(\"Enter elements\")\n",
    "s40.add(el)\n",
    "print(\"The set is:\",s40)"
   ]
  },
  {
   "cell_type": "markdown",
   "id": "101b7ef8-f26a-4a78-9319-0355efb64f56",
   "metadata": {},
   "source": [
    "41. Check if the intersection of two sets is empty."
   ]
  },
  {
   "cell_type": "code",
   "execution_count": 64,
   "id": "8b604a70-19a5-45c0-b53b-adc58afb850f",
   "metadata": {},
   "outputs": [
    {
     "name": "stdout",
     "output_type": "stream",
     "text": [
      "The intersection of two sets isn't empty\n"
     ]
    }
   ],
   "source": [
    "s41a={1,2,3,4}\n",
    "s41b={2,4,6,8}\n",
    "if len(s41a.intersection(s41b))==0:\n",
    "    print(\"The intersection of two sets is empty\")\n",
    "else:\n",
    "    print(\"The intersection of two sets isn't empty\")"
   ]
  },
  {
   "cell_type": "markdown",
   "id": "f0e7f689-d797-4ac4-a525-dceaa98a63b8",
   "metadata": {},
   "source": [
    "42. Create a set of the first 5 Fibonacci numbers."
   ]
  },
  {
   "cell_type": "code",
   "execution_count": 83,
   "id": "38bdb90c-cf72-42ab-9041-7e66a3d5c8dc",
   "metadata": {},
   "outputs": [
    {
     "name": "stdout",
     "output_type": "stream",
     "text": [
      "The set of first 5 Fibonacci numbers: {0, 1, 2, 3, 5}\n"
     ]
    }
   ],
   "source": [
    "s42=set()\n",
    "a,b=0,1\n",
    "for i in range(6):\n",
    "    s42.add(a)\n",
    "    a,b=b,a+b\n",
    "    \n",
    "print(f'The set of first 5 Fibonacci numbers: {s42}')    "
   ]
  },
  {
   "cell_type": "markdown",
   "id": "53c9dfec-e398-4e74-b82d-42c4c31dcf00",
   "metadata": {},
   "source": [
    "43. Remove duplicates from a list using sets."
   ]
  },
  {
   "cell_type": "code",
   "execution_count": 85,
   "id": "f57267f3-8f9f-4fdc-8ba8-cc8ea9798c50",
   "metadata": {},
   "outputs": [
    {
     "name": "stdout",
     "output_type": "stream",
     "text": [
      "The list after removing duplicates is: [1, 2, 3, 4, 5]\n"
     ]
    }
   ],
   "source": [
    "s43=[1,2,3,4,1,2,1,3,4,5,3,1,5,1,3]\n",
    "print(\"The list after removing duplicates is:\", list(set(s43)))"
   ]
  },
  {
   "cell_type": "markdown",
   "id": "b8badb70-2387-4225-bf0d-4e46098abfd4",
   "metadata": {},
   "source": [
    "44. Check if two sets have the same elements, regardless of their count."
   ]
  },
  {
   "cell_type": "code",
   "execution_count": 91,
   "id": "42acb1fd-44c1-411a-9024-7a3ac03f70f8",
   "metadata": {},
   "outputs": [
    {
     "name": "stdout",
     "output_type": "stream",
     "text": [
      "The sets have same elements\n"
     ]
    }
   ],
   "source": [
    "s43={1,2,3,4,1,2,1,3,4,5,3,1,5,1,3}\n",
    "s44={1,2,4,1,5,3,4,5,2,3,2,1,5,5,3,1,3}\n",
    "if set(s43)==set(s44):\n",
    "    print(\"The sets have same elements\")\n",
    "else:\n",
    "    print(\"The sets doesn't have same elements\")"
   ]
  },
  {
   "cell_type": "markdown",
   "id": "1386934e-cc97-4f82-a348-983ca8d27298",
   "metadata": {},
   "source": [
    "45. Create a set of the first `n` powers of 2."
   ]
  },
  {
   "cell_type": "code",
   "execution_count": 96,
   "id": "66527114-48c5-429b-8121-7e72f0e5e236",
   "metadata": {},
   "outputs": [
    {
     "name": "stdin",
     "output_type": "stream",
     "text": [
      "Enter the first n, you want: 5\n"
     ]
    },
    {
     "name": "stdout",
     "output_type": "stream",
     "text": [
      "The set of first  5 powers of 2 is: {1, 2, 4, 8, 16}\n"
     ]
    }
   ],
   "source": [
    "n=int(input(\"Enter the first n, you want:\"))\n",
    "s45=set(2**i for i in range(n))\n",
    "print(\"The set of first \", n , \"powers of 2 is:\", s45)"
   ]
  },
  {
   "cell_type": "markdown",
   "id": "1ff6127e-71fe-40e4-8dc5-21f96635e489",
   "metadata": {},
   "source": [
    "46. Find the common elements between a set and a list."
   ]
  },
  {
   "cell_type": "code",
   "execution_count": 98,
   "id": "19ccc365-a0f4-462d-961c-2d4a91803007",
   "metadata": {},
   "outputs": [
    {
     "name": "stdout",
     "output_type": "stream",
     "text": [
      "the commmon elements between a set and a list is:{10, 5}\n"
     ]
    }
   ],
   "source": [
    "s46={1,2,3,4,5,6,7,8,9,10}\n",
    "s46_l=[5,10,15,20]\n",
    "print(f'the commmon elements between a set and a list is:{s46.intersection(set(s46_l))}')"
   ]
  },
  {
   "cell_type": "markdown",
   "id": "064d073f-c19d-4a38-bc60-d27bb37b9468",
   "metadata": {},
   "source": [
    "47. Create a set of the first `n` triangular numbers."
   ]
  },
  {
   "cell_type": "code",
   "execution_count": 102,
   "id": "c459554d-356f-4713-9348-d9f712dfa429",
   "metadata": {},
   "outputs": [
    {
     "name": "stdin",
     "output_type": "stream",
     "text": [
      "Enter the n: 10\n"
     ]
    },
    {
     "name": "stdout",
     "output_type": "stream",
     "text": [
      "The set of first n triangular numbers: {1, 3, 36, 6, 10, 45, 15, 21, 55, 28}\n"
     ]
    }
   ],
   "source": [
    "n=int(input(\"Enter the n:\"))\n",
    "s47=set(i*(i+1)//2 for i in range(1,n+1))\n",
    "print(f\"The set of first n triangular numbers: {s47}\")\n"
   ]
  },
  {
   "cell_type": "markdown",
   "id": "10e5575b-af03-4bc9-a390-9a951a14c554",
   "metadata": {},
   "source": [
    "48. Check if a set contains another set as a subset."
   ]
  },
  {
   "cell_type": "code",
   "execution_count": 103,
   "id": "eca63c5b-46d7-4801-a165-fe3afc2a7feb",
   "metadata": {},
   "outputs": [
    {
     "name": "stdout",
     "output_type": "stream",
     "text": [
      "A set contains another set as a subset\n"
     ]
    }
   ],
   "source": [
    "s48={1,2,3,4,5,6}\n",
    "s48s={2,3}\n",
    "if s48s.issubset(s48):\n",
    "    print(\"A set contains another set as a subset\")\n",
    "else:\n",
    "    print(\"A set doesn't contain another set as a subset\")"
   ]
  },
  {
   "cell_type": "markdown",
   "id": "8e0f5774-f55f-4852-9dd6-fc11ac3826c1",
   "metadata": {},
   "source": [
    "49. Create a set of alternating 1s and 0s of length `n`."
   ]
  },
  {
   "cell_type": "code",
   "execution_count": 105,
   "id": "115fee90-bb49-4cfd-8f93-369d3bf59815",
   "metadata": {},
   "outputs": [
    {
     "name": "stdin",
     "output_type": "stream",
     "text": [
      "Enter the 'n': 5\n"
     ]
    },
    {
     "name": "stdout",
     "output_type": "stream",
     "text": [
      "A set of alternating 1s and 0s of length `n`: {0, 1}\n"
     ]
    }
   ],
   "source": [
    "n=int(input(\"Enter the 'n':\"))\n",
    "s49=set(i%2 for i in range(n))\n",
    "print(\"A set of alternating 1s and 0s of length `n`:\",s49)"
   ]
  },
  {
   "cell_type": "markdown",
   "id": "3c18477f-d603-423e-b64c-8f25a70ff505",
   "metadata": {},
   "source": [
    "50. Merge multiple sets into one."
   ]
  },
  {
   "cell_type": "code",
   "execution_count": 109,
   "id": "f8bdaa42-4350-4b66-85c2-b01f696d60d5",
   "metadata": {},
   "outputs": [
    {
     "name": "stdout",
     "output_type": "stream",
     "text": [
      "The merged set: {1, 2, 3, 4, 5, 6, 7, 8, 9}\n"
     ]
    }
   ],
   "source": [
    "s50a={1,2,3,4}\n",
    "s50b={2,3,5,6}\n",
    "s50c={5,6,7,8,9}\n",
    "print(f\"The merged set: {s50a.union(s50b,s50c)}\")"
   ]
  },
  {
   "cell_type": "code",
   "execution_count": null,
   "id": "d4fa3fce-8150-4169-87a7-6694acfc9311",
   "metadata": {},
   "outputs": [],
   "source": []
  }
 ],
 "metadata": {
  "kernelspec": {
   "display_name": "Python 3 (ipykernel)",
   "language": "python",
   "name": "python3"
  },
  "language_info": {
   "codemirror_mode": {
    "name": "ipython",
    "version": 3
   },
   "file_extension": ".py",
   "mimetype": "text/x-python",
   "name": "python",
   "nbconvert_exporter": "python",
   "pygments_lexer": "ipython3",
   "version": "3.10.8"
  }
 },
 "nbformat": 4,
 "nbformat_minor": 5
}
